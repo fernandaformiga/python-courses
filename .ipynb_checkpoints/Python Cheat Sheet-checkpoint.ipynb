{
 "cells": [
  {
   "cell_type": "markdown",
   "metadata": {},
   "source": [
    "# strings"
   ]
  },
  {
   "cell_type": "markdown",
   "metadata": {},
   "source": [
    "adding strings"
   ]
  },
  {
   "cell_type": "code",
   "execution_count": 26,
   "metadata": {},
   "outputs": [
    {
     "name": "stdout",
     "output_type": "stream",
     "text": [
      "The total cost is 1500\n",
      "Hello Fernanda welcome to the Python course\n"
     ]
    }
   ],
   "source": [
    "message = \"The total cost is\"\n",
    "price = \"1500\"\n",
    "new_message = message + \" \" + price\n",
    "print(new_message)\n",
    "print(\"\\n\")\n",
    "\n",
    "greeting = \"Hello\"\n",
    "user = \"Fernanda\"\n",
    "message = \"welcome to the Python course\"\n",
    "\n",
    "print(greeting, user, message)"
   ]
  },
  {
   "cell_type": "markdown",
   "metadata": {},
   "source": [
    "indexing and slicing"
   ]
  },
  {
   "cell_type": "code",
   "execution_count": 2,
   "metadata": {},
   "outputs": [
    {
     "name": "stdout",
     "output_type": "stream",
     "text": [
      "F\n",
      "Fernanda\n",
      "Ferna\n",
      "adnanreF\n"
     ]
    }
   ],
   "source": [
    "#refers to specific characters in the string\n",
    "\n",
    "name = \"Fernanda\"\n",
    "print(name[0])\n",
    "print(\"\\n\")\n",
    "print(name[0:8])\n",
    "print(\"\\n\")\n",
    "print(name[0:5])\n",
    "print(\"\\n\")\n",
    "print(name[::-1])"
   ]
  },
  {
   "cell_type": "markdown",
   "metadata": {},
   "source": [
    "referencing strings"
   ]
  },
  {
   "cell_type": "code",
   "execution_count": 48,
   "metadata": {},
   "outputs": [
    {
     "name": "stdout",
     "output_type": "stream",
     "text": [
      "Fernanda\n",
      "Formiga\n",
      "\n",
      "\n",
      "Hello Fernanda Formiga! You just delved into python.\n"
     ]
    }
   ],
   "source": [
    "first_name = input()\n",
    "last_name = input()\n",
    "print(\"\\n\")\n",
    "print (\"Hello {} {}! You just delved into python.\".format(first_name, last_name))"
   ]
  },
  {
   "cell_type": "code",
   "execution_count": 11,
   "metadata": {},
   "outputs": [
    {
     "name": "stdout",
     "output_type": "stream",
     "text": [
      "Fernanda\n",
      "Formiga\n",
      "Hello Fernanda Formiga! You just delved into python.\n"
     ]
    }
   ],
   "source": [
    "print(f\"Hello {input()} {input()}! You just delved into python.\")"
   ]
  },
  {
   "cell_type": "code",
   "execution_count": 9,
   "metadata": {},
   "outputs": [
    {
     "name": "stdout",
     "output_type": "stream",
     "text": [
      "Hello Fernanda Formiga da Silva! You just delved into python.\n"
     ]
    }
   ],
   "source": [
    "first_name = \"Fernanda\"\n",
    "last_name = \"Formiga da Silva\"\n",
    "print ((\"Hello %s %s! You just delved into python.\") % (first_name, last_name))"
   ]
  },
  {
   "cell_type": "markdown",
   "metadata": {},
   "source": [
    "methods, functions, statements"
   ]
  },
  {
   "cell_type": "code",
   "execution_count": 1,
   "metadata": {},
   "outputs": [
    {
     "name": "stdout",
     "output_type": "stream",
     "text": [
      "hello fernanda welcome to the Python course\n",
      "8\n",
      "<class 'int'>\n",
      "<class 'str'>\n",
      "2289120681456\n",
      "hello Fernanda welcome to the Python course\n",
      "hello FERNANDA welcome to the Python course\n",
      "hello fernanda welcome to the python course\n",
      "3\n",
      "['welcome', 'to', 'the', 'Python', 'course']\n",
      "['welcome', 'to', 'the', 'Python', 'course']\n",
      "Python Java Ruby\n"
     ]
    }
   ],
   "source": [
    "greeting = \"hello\"\n",
    "user = \"fernanda\"\n",
    "message = \"welcome to the Python course\"\n",
    "\n",
    "print(greeting, user, message)\n",
    "print(\"\\n\")\n",
    "\n",
    "#length\n",
    "\n",
    "print(len(user))\n",
    "print(\"\\n\")\n",
    "\n",
    "#type\n",
    "\n",
    "print(type(5))\n",
    "print(type(user))\n",
    "print(\"\\n\")\n",
    "\n",
    "#id: memory location of an object\n",
    "\n",
    "print (id(user))\n",
    "print(\"\\n\")\n",
    "\n",
    "#capitalize, upper, lower, script, find, split, join\n",
    "\n",
    "print(greeting, user.capitalize(), message)\n",
    "print(\"\\n\")\n",
    "\n",
    "print(greeting, user.upper(), message)\n",
    "print(\"\\n\")\n",
    "\n",
    "print(greeting, user, message.lower())\n",
    "print(\"\\n\")\n",
    "\n",
    "print(user.find(\"n\"))\n",
    "print(\"\\n\")\n",
    "\n",
    "print(message.split()) #returns a list with individual strings\n",
    "print(\"\\n\")\n",
    "\n",
    "new_message = \"welcome-to-the-Python-course\"\n",
    "print(new_message.split('-')) #splits based on the dashes\n",
    "print(\"\\n\")\n",
    "\n",
    "my_languages = ['Python', 'Java', 'Ruby']\n",
    "print(\" \".join(my_languages)) #joins with the element inside the commas\n"
   ]
  },
  {
   "cell_type": "markdown",
   "metadata": {},
   "source": [
    "# booleans and conditions"
   ]
  },
  {
   "cell_type": "markdown",
   "metadata": {},
   "source": [
    "greater than >\n",
    "\n",
    "less than <\n",
    "\n",
    "greater than or equal to >=\n",
    "\n",
    "less than or equal to <=\n",
    "\n",
    "equal to ==\n",
    "\n",
    "not equal to !=\n",
    "\n",
    "\n",
    "\n",
    "true and true: true\n",
    "\n",
    "true and false: false\n",
    "\n",
    "false and false: false\n",
    "\n",
    "true or false: true\n",
    "\n",
    "true or true: true\n",
    "\n",
    "false or false"
   ]
  },
  {
   "cell_type": "markdown",
   "metadata": {},
   "source": [
    "# branching and conditionals"
   ]
  },
  {
   "cell_type": "markdown",
   "metadata": {},
   "source": [
    "if, elif, else\n",
    "\n",
    "if condition:\n",
    "    execute some code\n",
    "    \n",
    "elif other_condition:\n",
    "    execute some other code\n",
    "    \n",
    "else:\n",
    "    execute some other work"
   ]
  },
  {
   "cell_type": "code",
   "execution_count": 4,
   "metadata": {},
   "outputs": [
    {
     "name": "stdout",
     "output_type": "stream",
     "text": [
      "Welcome to the CALCULATION program\n",
      "Choose 1 to multiply, 2 to divide-> 4\n",
      "Enter first number-> 3\n",
      "Enter second number-> 5\n",
      "You've made an invalid selection\n"
     ]
    }
   ],
   "source": [
    "print(\"Welcome to the CALCULATION program\")\n",
    "\n",
    "choice = input(\"Choose 1 to multiply, 2 to divide: \")\n",
    "num_1 = int(input(\"Enter first number: \"))\n",
    "num_2 = int(input(\"Enter second number: \"))\n",
    "print(\"\\n\")\n",
    "if choice == \"1\":\n",
    "    print(f\"{num_1} multiplied by {num_2} is: {num_1*num_2}\")\n",
    "elif choice == \"2\":\n",
    "    print(f\"{num_1} divided by {num_2} is: {num_1/num_2}\")\n",
    "else:\n",
    "    print(\"You've made an invalid selection\")"
   ]
  },
  {
   "cell_type": "code",
   "execution_count": 49,
   "metadata": {},
   "outputs": [
    {
     "name": "stdout",
     "output_type": "stream",
     "text": [
      "Choose 1 to multiply, 2 to divide: 1\n",
      "Enter first number: 3\n",
      "Enter second number: 5\n",
      "\n",
      "\n",
      "3 multiplied by 5 is: 15\n"
     ]
    }
   ],
   "source": [
    "#alternative\n",
    "\n",
    "choice = input(\"Choose 1 to multiply, 2 to divide: \")\n",
    "if choice == \"1\" or choice == \"2\":\n",
    "    num_1 = int(input(\"Enter first number: \"))\n",
    "    num_2 = int(input(\"Enter second number: \"))\n",
    "    print(\"\\n\")\n",
    "    if choice == \"1\":\n",
    "        print(f\"{num_1} multiplied by {num_2} is: {num_1*num_2}\")\n",
    "    elif choice == \"2\":\n",
    "        print(f\"{num_1} divided by {num_2} is: {num_1/num_2}\")\n",
    "else:\n",
    "    print(\"You've made an invalid selection\")\n"
   ]
  },
  {
   "cell_type": "code",
   "execution_count": 10,
   "metadata": {},
   "outputs": [
    {
     "name": "stdout",
     "output_type": "stream",
     "text": [
      "Welcome to your homepage\n",
      "Welcome to your homepage\n",
      "i is less than j and k\n",
      "enrolled in Python course\n"
     ]
    }
   ],
   "source": [
    "#branching and control flow\n",
    "\n",
    "made_payment = True\n",
    "a = \"Please pay monthly premium\"\n",
    "b = \"Welcome to your homepage\"\n",
    "\n",
    "#option 1\n",
    "\n",
    "if not made_payment:\n",
    "    print(a)\n",
    "else:\n",
    "    print(b)\n",
    "print(\"\\n\")\n",
    "\n",
    "#option 2\n",
    "\n",
    "print(a) if not made_payment else print(b)\n",
    "print(\"\\n\")\n",
    "\n",
    "i = 5\n",
    "j = 10\n",
    "k = 30\n",
    "\n",
    "if i < j and i < k:\n",
    "    print(\"i is less than j and k\")\n",
    "elif i == j and i == k:\n",
    "    print(\"i is less than j and k\")\n",
    "else:\n",
    "    print(\"something else\")\n",
    "    \n",
    "#shorter form in one line only:\n",
    "    \n",
    "course = \"python\"\n",
    "a = \"enrolled in Python course\"\n",
    "b = \"enrolled in some other course\"\n",
    "\n",
    "print(a) if course == \"python\" else print (b)"
   ]
  },
  {
   "cell_type": "markdown",
   "metadata": {},
   "source": [
    "# lists, dictionaries, sets, tuples\n"
   ]
  },
  {
   "cell_type": "code",
   "execution_count": 50,
   "metadata": {},
   "outputs": [
    {
     "name": "stdout",
     "output_type": "stream",
     "text": [
      "[1, 2, True, 'Fernanda', 5.0]\n",
      "\n",
      "\n",
      "Fernanda\n",
      "<class 'list'>\n",
      "\n",
      "\n",
      "['architecture', 'artificial intelligence', 'arts', 'lord of the rings', 'science']\n",
      "\n",
      "\n",
      "['architecture', 'artificial intelligence', 'arts', 'lord of the rings', 'science']\n",
      "Sorted stings: ['architecture', 'artificial intelligence', 'arts', 'lord of the rings', 'science']\n",
      "\n",
      "\n",
      "['architecture', 'artificial intelligence', 'arts', 'lord of the rings', 'science']\n",
      "\n",
      "\n",
      "True\n",
      "True\n",
      "4\n",
      "\n",
      "\n",
      "5\n",
      "\n",
      "\n",
      "42\n",
      "\n",
      "\n",
      "64\n",
      "13\n",
      "\n",
      "\n",
      "['__add__', '__class__', '__contains__', '__delattr__', '__delitem__', '__dir__', '__doc__', '__eq__', '__format__', '__ge__', '__getattribute__', '__getitem__', '__gt__', '__hash__', '__iadd__', '__imul__', '__init__', '__init_subclass__', '__iter__', '__le__', '__len__', '__lt__', '__mul__', '__ne__', '__new__', '__reduce__', '__reduce_ex__', '__repr__', '__reversed__', '__rmul__', '__setattr__', '__setitem__', '__sizeof__', '__str__', '__subclasshook__', 'append', 'clear', 'copy', 'count', 'extend', 'index', 'insert', 'pop', 'remove', 'reverse', 'sort']\n",
      "['__add__', '__class__', '__contains__', '__delattr__', '__delitem__', '__dir__', '__doc__', '__eq__', '__format__', '__ge__', '__getattribute__', '__getitem__', '__gt__', '__hash__', '__iadd__', '__imul__', '__init__', '__init_subclass__', '__iter__', '__le__', '__len__', '__lt__', '__mul__', '__ne__', '__new__', '__reduce__', '__reduce_ex__', '__repr__', '__reversed__', '__rmul__', '__setattr__', '__setitem__', '__sizeof__', '__str__', '__subclasshook__', 'append', 'clear', 'copy', 'count', 'extend', 'index', 'insert', 'pop', 'remove', 'reverse', 'sort']\n",
      "\n",
      "\n",
      "['arts', 'architecture', 'science', 'artificial intelligence', 'lord of the rings', 'high fantasy']\n",
      "\n",
      "\n",
      "['arts', 'architecture', 'progressive metal', 'science', 'artificial intelligence', 'lord of the rings', 'high fantasy']\n",
      "\n",
      "\n",
      "['arts', 'architecture', 'progressive metal', 'science', 'artificial intelligence', 'lord of the rings', 'high fantasy', 'folk metal', 'power metal', 'norse mythology']\n",
      "\n",
      "\n",
      "['arts', 'architecture', 'progressive metal', 'science', 'lord of the rings', 'high fantasy', 'folk metal', 'power metal', 'norse mythology']\n",
      "\n",
      "\n",
      "power metal\n",
      "['arts', 'architecture', 'progressive metal', 'science', 'lord of the rings', 'high fantasy', 'folk metal']\n",
      "\n",
      "\n",
      "['math', 'architecture', 'progressive metal', 'science', 'lord of the rings', 'high fantasy', 'folk metal']\n",
      "\n",
      "\n",
      "sublist:\n",
      "['architecture', 'progressive metal', 'science', 'lord of the rings', 'high fantasy']\n",
      "['math', 'progressive metal', 'lord of the rings', 'folk metal']\n",
      "\n",
      "\n",
      "math\n",
      "architecture\n",
      "progressive metal\n",
      "science\n",
      "lord of the rings\n",
      "high fantasy\n",
      "folk metal\n"
     ]
    }
   ],
   "source": [
    "#lists\n",
    "\n",
    "random_list = [1, 2, True, \"Fernanda\", 5.0]\n",
    "#print list\n",
    "print(random_list)\n",
    "print(\"\\n\")\n",
    "\n",
    "#print element from the list by its index\n",
    "print(random_list[3])\n",
    "print(type(random_list))\n",
    "print(\"\\n\")\n",
    "\n",
    "#actions with lists\n",
    "#sort - sort(), sorted()\n",
    "#find - len(). min(), max(), in, indexing, slicing, count()\n",
    "#inser/remove - append(), insert(), extend(), remove(), pop()\n",
    "#sub-lists - slicing, in-place, copying\n",
    "#iteration - loops, while loops\n",
    "\n",
    "#sorting\n",
    "\n",
    "my_numbers = [13, 34, 64, 42, 39]\n",
    "my_strings = [\"arts\", \"architecture\", \"science\", \"artificial intelligence\", \"lord of the rings\"]\n",
    "print(sorted(my_strings))\n",
    "print(\"\\n\")\n",
    "\n",
    "#alternative sorting\n",
    "\n",
    "sorted_list = sorted(my_strings) #function\n",
    "print(sorted_list)\n",
    "print(f\"Sorted stings: {sorted_list}\")\n",
    "print(\"\\n\")\n",
    "\n",
    "#alternative sorting 2\n",
    "\n",
    "sorted_list.sort() #method\n",
    "print(sorted_list)\n",
    "print(\"\\n\")\n",
    "\n",
    "#finding info\n",
    "\n",
    "print(\"architecture\" in my_strings) #Output: true\n",
    "print(34 in my_numbers) #Output: true\n",
    "print(my_strings.index(\"lord of the rings\"))\n",
    "print(\"\\n\")\n",
    "\n",
    "#length\n",
    "\n",
    "print(len(my_numbers))\n",
    "print(\"\\n\")\n",
    "\n",
    "#length with operations\n",
    "\n",
    "print(my_numbers[len(my_numbers)-2]) #Output: 42\n",
    "print(\"\\n\")\n",
    "\n",
    "#maximum and minimum\n",
    "\n",
    "print(max(my_numbers))\n",
    "print(min(my_numbers))\n",
    "print(\"\\n\")\n",
    "\n",
    "#list built-in methods available\n",
    "\n",
    "print(dir(my_strings))\n",
    "print(dir(my_numbers))\n",
    "print(\"\\n\")\n",
    "\n",
    "#append adds some element to the end of the list\n",
    "my_strings.append(\"high fantasy\")\n",
    "print(my_strings)\n",
    "print(\"\\n\")\n",
    "\n",
    "#insert adds element in the desired index\n",
    "#first provide index, then the object\n",
    "\n",
    "my_strings.insert(2, \"progressive metal\")\n",
    "print(my_strings)\n",
    "print(\"\\n\")\n",
    "\n",
    "#extend\n",
    "new_strings_list = [\"folk metal\", \"power metal\", \"norse mythology\"]\n",
    "\n",
    "#append list in other list does not simply add the elements, but the list itself\n",
    "#my_strings.append(new_strings_list)\n",
    "my_strings.extend(new_strings_list)\n",
    "print(my_strings)\n",
    "print(\"\\n\")\n",
    "\n",
    "#remove\n",
    "my_strings.remove(\"artificial intelligence\")\n",
    "print(my_strings)\n",
    "print(\"\\n\")\n",
    "\n",
    "#pop removes the last item of the list\n",
    "my_strings.pop()\n",
    "print(my_strings.pop()) #shows removed item\n",
    "print(my_strings)\n",
    "print(\"\\n\")\n",
    "\n",
    "#reassign item in list\n",
    "my_strings[0] = \"math\"\n",
    "print(my_strings)\n",
    "print(\"\\n\")\n",
    "\n",
    "#slicing\n",
    "print(\"sublist:\")\n",
    "print(my_strings[1:6])\n",
    "print(my_strings[::2])\n",
    "print(\"\\n\")\n",
    "\n",
    "#list all itens in list\n",
    "for item in my_strings:\n",
    "    print(item)"
   ]
  },
  {
   "cell_type": "code",
   "execution_count": 1,
   "metadata": {},
   "outputs": [],
   "source": [
    "#dictionaries\n",
    "\n",
    "random_dict = {'name':'Fernanda','course':'Python'}\n",
    "\n",
    "#elements separated by the comma are key value pairs (key+value)"
   ]
  },
  {
   "cell_type": "code",
   "execution_count": 51,
   "metadata": {},
   "outputs": [
    {
     "name": "stdout",
     "output_type": "stream",
     "text": [
      "{'name': 'Fernanda', 'course': 'python'}\n",
      "{'taypa': 'peruvian food', 'new koto': 'japanese food', 'ricco': 'hamburger'}\n",
      "{'a': {'ant': 'insect', 'architect': 'job'}, 'b': {'banana': 'fruit', 'bottle': 'object'}}\n",
      "\n",
      "\n",
      "{'ant': 'insect', 'architect': 'job'}\n",
      "job\n",
      "Fernanda\n",
      "\n",
      "\n",
      "{'name': 'Fernanda', 'course': 'architecture', 'fav_food': 'sushi', 'job': 'student'}\n",
      "\n",
      "\n",
      "{'name': 'Fernanda', 'course': 'software engineering', 'fav_food': 'sushi', 'job': 'student'}\n",
      "\n",
      "\n",
      "dict_keys(['name', 'course', 'fav_food', 'job'])\n",
      "dict_values(['Fernanda', 'software engineering', 'sushi', 'student'])\n",
      "dict_items([('name', 'Fernanda'), ('course', 'software engineering'), ('fav_food', 'sushi'), ('job', 'student')])\n",
      "\n",
      "\n",
      "name Fernanda\n",
      "course software engineering\n",
      "fav_food sushi\n",
      "job student\n"
     ]
    }
   ],
   "source": [
    "#valid dictionary structures\n",
    "\n",
    "my_dict = {'name': 'Fernanda', 'course':'architecture', 'fav_food': 'sushi'}\n",
    "food_guide = {'taypa': 'peruvian food',\n",
    "             'new koto': 'japanese food',\n",
    "             'ricco': 'hamburger'}\n",
    "word_dict = {'a':\n",
    "                 {\n",
    "                     'ant': 'insect',\n",
    "                     'architect': 'job'\n",
    "                 },\n",
    "             'b':\n",
    "                 {\n",
    "                     'banana': 'fruit',\n",
    "                     'bottle': 'object'\n",
    "                 }\n",
    "             }\n",
    "\n",
    "print(sample_dict)\n",
    "print(food_guide)\n",
    "print(word_dict)\n",
    "print(\"\\n\")\n",
    "\n",
    "#return key values in different ways\n",
    "print(word_dict['a'])\n",
    "print(word_dict['a']['architect'])\n",
    "print(my_dict.get('name'))\n",
    "print(\"\\n\")\n",
    "\n",
    "#add something to dictionary\n",
    "\n",
    "my_dict['job'] = 'student'\n",
    "print(my_dict)\n",
    "print(\"\\n\")\n",
    "\n",
    "#change some value\n",
    "\n",
    "my_dict['course'] = 'software engineering'\n",
    "print(my_dict)\n",
    "print(\"\\n\")\n",
    "\n",
    "#print only keys or values\n",
    "\n",
    "print(my_dict.keys())\n",
    "print(my_dict.values())\n",
    "print(my_dict.items())\n",
    "print(\"\\n\")\n",
    "\n",
    "for k,v in my_dict.items():\n",
    "    print(k,v)"
   ]
  },
  {
   "cell_type": "code",
   "execution_count": 25,
   "metadata": {},
   "outputs": [
    {
     "name": "stdout",
     "output_type": "stream",
     "text": [
      "(1, 2, True, 'Fernanda', 5.0)\n",
      "Fernanda\n"
     ]
    },
    {
     "ename": "TypeError",
     "evalue": "'tuple' object does not support item assignment",
     "output_type": "error",
     "traceback": [
      "\u001b[1;31m---------------------------------------------------------------------------\u001b[0m",
      "\u001b[1;31mTypeError\u001b[0m                                 Traceback (most recent call last)",
      "\u001b[1;32m<ipython-input-25-5ef7b4aae82c>\u001b[0m in \u001b[0;36m<module>\u001b[1;34m\u001b[0m\n\u001b[0;32m      8\u001b[0m \u001b[1;31m#print element from the tuple by its index\u001b[0m\u001b[1;33m\u001b[0m\u001b[1;33m\u001b[0m\u001b[1;33m\u001b[0m\u001b[0m\n\u001b[0;32m      9\u001b[0m \u001b[0mprint\u001b[0m\u001b[1;33m(\u001b[0m\u001b[0mrandom_tuple\u001b[0m\u001b[1;33m[\u001b[0m\u001b[1;36m3\u001b[0m\u001b[1;33m]\u001b[0m\u001b[1;33m)\u001b[0m\u001b[1;33m\u001b[0m\u001b[1;33m\u001b[0m\u001b[0m\n\u001b[1;32m---> 10\u001b[1;33m \u001b[0mrandom_tuple\u001b[0m\u001b[1;33m[\u001b[0m\u001b[1;36m3\u001b[0m\u001b[1;33m]\u001b[0m\u001b[1;33m=\u001b[0m\u001b[1;36m42\u001b[0m\u001b[1;33m\u001b[0m\u001b[1;33m\u001b[0m\u001b[0m\n\u001b[0m\u001b[0;32m     11\u001b[0m \u001b[0mprint\u001b[0m\u001b[1;33m(\u001b[0m\u001b[0mrandom_tuple\u001b[0m\u001b[1;33m[\u001b[0m\u001b[1;36m3\u001b[0m\u001b[1;33m]\u001b[0m\u001b[1;33m)\u001b[0m\u001b[1;33m\u001b[0m\u001b[1;33m\u001b[0m\u001b[0m\n\u001b[0;32m     12\u001b[0m \u001b[1;33m\u001b[0m\u001b[0m\n",
      "\u001b[1;31mTypeError\u001b[0m: 'tuple' object does not support item assignment"
     ]
    }
   ],
   "source": [
    "#tuples\n",
    "\n",
    "#behave like lists, but immutable\n",
    "\n",
    "random_tuple = (1, 2, True, \"Fernanda\", 5.0)\n",
    "\n",
    "#print list\n",
    "print(random_tuple)\n",
    "print(\"\\n\")\n",
    "\n",
    "#print element from the tuple by its index\n",
    "print(random_tuple[3])\n",
    "random_tuple[3]=42\n",
    "print(random_tuple[3])\n",
    "print(\"\\n\")\n",
    "\n",
    "#'tuple' object does not support item assignment"
   ]
  },
  {
   "cell_type": "code",
   "execution_count": 52,
   "metadata": {},
   "outputs": [
    {
     "name": "stdout",
     "output_type": "stream",
     "text": [
      "7\n",
      "23\n",
      "(23, 'hermann hesse', 7, 13, 'blind guardian', 'harry potter')\n",
      "\n",
      "\n",
      "['__add__', '__class__', '__contains__', '__delattr__', '__dir__', '__doc__', '__eq__', '__format__', '__ge__', '__getattribute__', '__getitem__', '__getnewargs__', '__gt__', '__hash__', '__init__', '__init_subclass__', '__iter__', '__le__', '__len__', '__lt__', '__mul__', '__ne__', '__new__', '__reduce__', '__reduce_ex__', '__repr__', '__rmul__', '__setattr__', '__sizeof__', '__str__', '__subclasshook__', 'count', 'index']\n",
      "\n",
      "\n",
      "6\n",
      "\n",
      "\n",
      "1\n",
      "\n",
      "\n",
      "True\n",
      "\n",
      "\n",
      "harry potter\n",
      "blind guardian\n",
      "13\n",
      "7\n",
      "hermann hesse\n",
      "23\n",
      "\n",
      "\n",
      "value_c\n"
     ]
    }
   ],
   "source": [
    "random_tuple = ('harry potter', 'blind guardian', 13, 7, 'hermann hesse', 23)\n",
    "print(random_tuple[3])\n",
    "print(random_tuple[-1])\n",
    "print(random_tuple[::-1]) #shows reversed tuple\n",
    "print(\"\\n\")\n",
    "\n",
    "print(dir(random_tuple)) #shows available actions\n",
    "print(\"\\n\")\n",
    "\n",
    "#how many elements?\n",
    "print(len(random_tuple))\n",
    "print(\"\\n\")\n",
    "\n",
    "#index\n",
    "print(random_tuple.index('blind guardian'))\n",
    "print(\"\\n\")\n",
    "\n",
    "#true or false?\n",
    "print('hermann hesse' in random_tuple) #it is there, so it returns True\n",
    "print(\"\\n\")\n",
    "\n",
    "#list all elements, like in the list\n",
    "for item in random_tuple:\n",
    "    print(item)\n",
    "print(\"\\n\")\n",
    "\n",
    "#assign values\n",
    "other_tuple = (\"value_a\", \"value_b\", \"value_c\")\n",
    "first, second, third = other_tuple\n",
    "print(third) #returns value_c"
   ]
  },
  {
   "cell_type": "code",
   "execution_count": 7,
   "metadata": {},
   "outputs": [
    {
     "name": "stdout",
     "output_type": "stream",
     "text": [
      "{1, 5.0, 'Formiga'}\n",
      "<class 'set'>\n",
      "{1, 2, 6, 8, 9, 10, 'rails', 'ruby', 21, 'java', 'javascript', 1000, 'c', 'python'}\n"
     ]
    }
   ],
   "source": [
    "#sets\n",
    "#single elements separated by commas\n",
    "#elements do not repeat when printed\n",
    "\n",
    "random_set = {1, 5.0, \"Formiga\", True,1}\n",
    "print(random_set)\n",
    "print(type(random_set))\n",
    "print(\"\\n\")\n",
    "\n",
    "#if the set is updated, the new elements are added in no particular order\n",
    "\n",
    "my_set = {1,6,2,'java','ruby',8,9,10,21,1000,'python',6}\n",
    "my_second_set = {6,2,'javascript','rails',8,9,10,21,1000,'c'}\n",
    "\n",
    "my_set.update(my_second_set)\n",
    "print(my_set)"
   ]
  },
  {
   "cell_type": "code",
   "execution_count": 1,
   "metadata": {},
   "outputs": [
    {
     "name": "stdout",
     "output_type": "stream",
     "text": [
      "{1, 2, 'rails', 6, 8, 9, 10, 'python', 'javascript', 21, 'c', 'java', 1000, 'ruby'}\n",
      "\n",
      "\n",
      "{1, 2, 'java', 6, 8, 9, 10, 1000, 'python', 21, 'ruby'}\n",
      "\n",
      "\n",
      "True\n",
      "\n",
      "\n",
      "{'python', 'ruby'}\n",
      "\n",
      "\n",
      "{1, 2, 'java', 6, 8, 9, 10, 1000, 'python', 'javascript', 'php', 21, 'ruby', 'c'}\n",
      "\n",
      "\n",
      "{1, 2, 'java', 6, 8, 9, 10, 1000, 21}\n",
      "\n",
      "\n",
      "1\n",
      "2\n",
      "java\n",
      "6\n",
      "8\n",
      "9\n",
      "10\n",
      "1000\n",
      "python\n",
      "21\n",
      "ruby\n",
      "\n",
      "\n",
      "['__and__', '__class__', '__contains__', '__delattr__', '__dir__', '__doc__', '__eq__', '__format__', '__ge__', '__getattribute__', '__gt__', '__hash__', '__iand__', '__init__', '__init_subclass__', '__ior__', '__isub__', '__iter__', '__ixor__', '__le__', '__len__', '__lt__', '__ne__', '__new__', '__or__', '__rand__', '__reduce__', '__reduce_ex__', '__repr__', '__ror__', '__rsub__', '__rxor__', '__setattr__', '__sizeof__', '__str__', '__sub__', '__subclasshook__', '__xor__', 'add', 'clear', 'copy', 'difference', 'difference_update', 'discard', 'intersection', 'intersection_update', 'isdisjoint', 'issubset', 'issuperset', 'pop', 'remove', 'symmetric_difference', 'symmetric_difference_update', 'union', 'update']\n"
     ]
    }
   ],
   "source": [
    "#sets are unordered collections of elements\n",
    "\n",
    "my_set = {1,6,2,'java','ruby',8,9,10,21,1000,'python',6}\n",
    "my_second_set = {6,2,'javascript','rails',8,9,10,21,1000,'c'}\n",
    "\n",
    "my_set.update(my_second_set)\n",
    "print(my_set)\n",
    "print(\"\\n\")\n",
    "\n",
    "#there can be no duplicates and the order always changes\n",
    "#if there are duplicate elements, they appear only once\n",
    "\n",
    "#remove duplicate values in a list\n",
    "\n",
    "my_list = [1,6,2,'java','ruby',8,9,10,21,1000,'python',6, 'python', 'ruby']\n",
    "my_set = set(my_list) #converts it into a set\n",
    "print(my_set)\n",
    "print(\"\\n\")\n",
    "\n",
    "#find information\n",
    "\n",
    "print('python' in my_set)\n",
    "print(\"\\n\")\n",
    "\n",
    "#intersection, union, difference\n",
    "coding_set = {'python', 'javascript', 'php', 'c', 'ruby'}\n",
    "print(my_set.intersection(coding_set))\n",
    "print(\"\\n\")\n",
    "print(my_set.union(coding_set))\n",
    "print(\"\\n\")\n",
    "print(my_set.difference(coding_set))\n",
    "print(\"\\n\")\n",
    "\n",
    "for item in my_set:\n",
    "    print(item)\n",
    "\n",
    "print(\"\\n\")\n",
    "    \n",
    "print(dir(my_set))"
   ]
  },
  {
   "cell_type": "markdown",
   "metadata": {},
   "source": [
    "# Iterators, for loops, generators, list comprehension"
   ]
  },
  {
   "cell_type": "code",
   "execution_count": 69,
   "metadata": {},
   "outputs": [
    {
     "name": "stdout",
     "output_type": "stream",
     "text": [
      "sum using list: 2\n",
      "sum using list: 11\n",
      "sum using list: 24\n",
      "sum using list: 66\n",
      "sum using list: 162\n",
      "sum using list: 190\n",
      "\n",
      "\n",
      "[0, 1, 2, 3, 4, 5, 6, 7, 8, 9]\n",
      "\n",
      "\n",
      "<class 'list'>\n",
      "\n",
      "\n",
      "<class 'range'>\n",
      "\n",
      "\n",
      "0\n",
      "1\n",
      "2\n",
      "3\n",
      "4\n",
      "5\n",
      "6\n",
      "7\n",
      "8\n",
      "9\n",
      "\n",
      "\n",
      "2\n",
      "9\n",
      "13\n",
      "\n",
      "\n",
      "sum using range generator: 190\n"
     ]
    }
   ],
   "source": [
    "num_list = [2, 9, 13, 42, 96, 28]\n",
    "my_dict = {'py': 'python', 'rb': 'ruby', 'js': 'javascript'}\n",
    "\n",
    "\n",
    "#sum ints\n",
    "sum = 0\n",
    "for num in num_list:\n",
    "    sum += num #adds sum to an integer at a time\n",
    "\n",
    "    print(f\"sum using list: {sum}\")\n",
    "\n",
    "print(\"\\n\")\n",
    "\n",
    "#other possibility with range function\n",
    "\n",
    "range(0,10)\n",
    "my_list = list(range(0,10))\n",
    "print(my_list)\n",
    "print(\"\\n\")\n",
    "\n",
    "print(type(my_list))\n",
    "print(\"\\n\")\n",
    "\n",
    "print(type(range(10)))\n",
    "print(\"\\n\")\n",
    "\n",
    "for num in range(10):\n",
    "    print(num)\n",
    "print(\"\\n\")\n",
    "    \n",
    "#print how many characters from num_list as I wish\n",
    "\n",
    "for num in range(3): #prints first three elements\n",
    "    print(num_list[num])\n",
    "print(\"\\n\")\n",
    "    \n",
    "sum=0\n",
    "for num in range(len(num_list)):\n",
    "    sum += num_list[num] #adds sum to an integer at a time\n",
    "print(f\"sum using range generator: {sum}\") #useful when not dealing with a list"
   ]
  },
  {
   "cell_type": "code",
   "execution_count": 72,
   "metadata": {},
   "outputs": [
    {
     "name": "stdout",
     "output_type": "stream",
     "text": [
      "[5, 7, 9, 3, 17]\n"
     ]
    }
   ],
   "source": [
    "l = [4, 6, 8, 2, 16]\n",
    "\n",
    "#example: to sum 1 to each element\n",
    "for num in range(0, len(l)):\n",
    "    l[num] += 1\n",
    "print(l)"
   ]
  },
  {
   "cell_type": "code",
   "execution_count": 1,
   "metadata": {},
   "outputs": [
    {
     "name": "stdout",
     "output_type": "stream",
     "text": [
      "[5, 11, 19, 21, 37]\n"
     ]
    }
   ],
   "source": [
    "l = [4, 6, 8, 2, 16]\n",
    "\n",
    "#example: to sum 1 to the first element and all previous ones to the following:\n",
    "l[0] += 1\n",
    "for num in range(1, len(l)):\n",
    "    l[num] += (l[num-1])\n",
    "print(l)"
   ]
  },
  {
   "cell_type": "code",
   "execution_count": 1,
   "metadata": {},
   "outputs": [
    {
     "name": "stdout",
     "output_type": "stream",
     "text": [
      "[5, 11, 14, 10, 18]\n"
     ]
    }
   ],
   "source": [
    "#to sum 1 to the first element and add the previous number to each one:\n",
    "\n",
    "l = [4, 6, 8, 2, 16]\n",
    "l[0] += 1\n",
    "l = l[::-1] #reverse order\n",
    "for num in range(0, (len(l)-1)):\n",
    "    l[num] += l[num+1]\n",
    "l=l[::-1]\n",
    "print(l)"
   ]
  },
  {
   "cell_type": "code",
   "execution_count": 2,
   "metadata": {},
   "outputs": [
    {
     "name": "stdout",
     "output_type": "stream",
     "text": [
      "2 + 16\n",
      "18\n",
      "8 + 2\n",
      "10\n",
      "6 + 8\n",
      "14\n",
      "4 + 6\n",
      "10\n",
      "18 + 1\n",
      "5\n",
      "[5, 10, 14, 10, 18]\n"
     ]
    }
   ],
   "source": [
    "l = [4, 6, 8, 2, 16]\n",
    "\n",
    "\n",
    "for num in range(len(l) - 1, -1, -1):\n",
    "    if num == 0:\n",
    "      print(l[num - 1], \"+\", \"1\")\n",
    "      l[num] += 1\n",
    "    else: \n",
    "      print(l[num - 1], \"+\", l[num])\n",
    "      l[num] += l[num - 1]\n",
    "    print(l[num])\n",
    "\n",
    "\n",
    "print(l)"
   ]
  },
  {
   "cell_type": "code",
   "execution_count": null,
   "metadata": {},
   "outputs": [],
   "source": [
    "num_list = [2, 9, 13, 42, 96, 28]\n",
    "\n",
    "run_times = int(input(\"How many times do you want to run? \"))\n",
    "for num in range(run_times):\n",
    "    print(f\"Run: {num}\")"
   ]
  },
  {
   "cell_type": "code",
   "execution_count": 1,
   "metadata": {},
   "outputs": [
    {
     "name": "stdout",
     "output_type": "stream",
     "text": [
      "[1, 6, 13, 12, 24, 28]\n"
     ]
    }
   ],
   "source": [
    "list_a = [2, 9, 13, 42, 96, 28]\n",
    "list_b = [1, 6, 15, 12, 24, 80]\n",
    "def func_0(list_a, list_b):\n",
    "    print([min(a, b) for a, b in zip(list_a, list_b)])\n",
    "\n",
    "func_0(list_a, list_b)"
   ]
  },
  {
   "cell_type": "code",
   "execution_count": 40,
   "metadata": {},
   "outputs": [
    {
     "name": "stdout",
     "output_type": "stream",
     "text": [
      "py\n",
      "rb\n",
      "js\n",
      "\n",
      "\n",
      "dict_items([('py', 'python'), ('rb', 'ruby'), ('js', 'javascript')])\n",
      "\n",
      "\n",
      "key is py, value is python\n",
      "key is rb, value is ruby\n",
      "key is js, value is javascript\n"
     ]
    }
   ],
   "source": [
    "my_dict = {'py': 'python', 'rb': 'ruby', 'js': 'javascript'}\n",
    "\n",
    "for item in my_dict:\n",
    "    print(item)\n",
    "print(\"\\n\")\n",
    "\n",
    "print(my_dict.items())\n",
    "print(\"\\n\")\n",
    "\n",
    "for item in my_dict.items():\n",
    "    key, value = item\n",
    "    print(f\"key is {key}, value is {value}\")"
   ]
  },
  {
   "cell_type": "code",
   "execution_count": 2,
   "metadata": {},
   "outputs": [
    {
     "name": "stdout",
     "output_type": "stream",
     "text": [
      "[18, 28, 13, 74, 31, 67, 32, 84, 96, 26, 77, 29, 44, 78, 66, 43, 95, 26, 76, 33, 95, 27, 87, 41, 57, 50, 77, 50, 44, 47, 32, 96, 61, 66, 18, 78, 50, 70, 37, 66, 46, 36, 45, 72, 89, 34, 14, 42, 14, 57, 81, 15, 84, 37, 76, 61, 94, 83, 90, 79, 49, 77, 62, 36, 52, 47, 82, 91, 59, 56, 24, 66, 60, 84, 90, 43, 90, 21, 26, 79, 30, 83, 66]\n",
      "\n",
      "\n",
      "[69, 42, 81, 71, 81, 57, 87, 26, 68, 50, 44, 93, 82, 22, 62, 21, 94, 87, 28, 47, 44, 46, 86, 72, 70, 67, 30, 65, 32, 42, 79, 36, 93, 81, 16, 77, 87, 34, 62, 47, 53, 68, 89, 56, 27, 88, 51, 47, 93, 37, 35, 95, 32, 72, 67, 81, 82, 54, 13, 83, 43, 75, 22, 55, 16, 88, 56, 69, 95, 43, 66, 48, 53, 14, 22, 18, 59, 72, 62, 69, 75, 37, 69]\n"
     ]
    }
   ],
   "source": [
    "from random import randint\n",
    "# generate 83 random integers between 13 and 96\n",
    "integers = [] #starts off with empty list\n",
    "for num in range (13,96):\n",
    "    integers.append(randint(13,96))\n",
    "print(integers)\n",
    "print(\"\\n\")\n",
    "\n",
    "#alternative\n",
    "\n",
    "integers = [randint(13,96) for num in range (83)]\n",
    "print(integers)"
   ]
  },
  {
   "cell_type": "markdown",
   "metadata": {},
   "source": [
    "# While loops, enumerate, zip"
   ]
  },
  {
   "cell_type": "code",
   "execution_count": null,
   "metadata": {},
   "outputs": [],
   "source": [
    "truth_condition = True\n",
    "\n",
    "while truth_condition:\n",
    "    print('The condition is true.')\n",
    "    break #avoids infinite loops"
   ]
  },
  {
   "cell_type": "code",
   "execution_count": 13,
   "metadata": {},
   "outputs": [
    {
     "name": "stdout",
     "output_type": "stream",
     "text": [
      "25 found at index 98\n"
     ]
    }
   ],
   "source": [
    "from random import randint\n",
    "\n",
    "l1 = [randint(1,100) for num in range(1000)]\n",
    "\n",
    "i = 0\n",
    "num_to_search = 25\n",
    "while i < len(l1): #which means less than 1000\n",
    "    if l1[i] == num_to_search:\n",
    "        print(f'{num_to_search} found at index {i}')\n",
    "        break #shows only first one\n",
    "    i +=1\n"
   ]
  },
  {
   "cell_type": "code",
   "execution_count": 21,
   "metadata": {},
   "outputs": [
    {
     "name": "stdout",
     "output_type": "stream",
     "text": [
      "25 found at index 62\n"
     ]
    }
   ],
   "source": [
    "from random import randint\n",
    "\n",
    "l1 = [randint(1,100) for num in range(1000)]\n",
    "\n",
    "i = 0\n",
    "num_to_search = 25\n",
    "for num in l1:\n",
    "    i += 1\n",
    "    if num == num_to_search:\n",
    "        print(f'{num_to_search} found at index {i}')\n",
    "        break"
   ]
  },
  {
   "cell_type": "code",
   "execution_count": 39,
   "metadata": {},
   "outputs": [
    {
     "name": "stdout",
     "output_type": "stream",
     "text": [
      "25 found at index 91\n"
     ]
    }
   ],
   "source": [
    "from random import randint\n",
    "\n",
    "l1 = [randint(1,100) for num in range(1000)]\n",
    "\n",
    "num_to_search = 25\n",
    "for index, num in enumerate(l1):\n",
    "    if num == num_to_search:\n",
    "        print(f'{num_to_search} found at index {index}')\n",
    "        break"
   ]
  },
  {
   "cell_type": "code",
   "execution_count": 2,
   "metadata": {},
   "outputs": [
    {
     "name": "stdout",
     "output_type": "stream",
     "text": [
      "Please choose an option from the list below:\n",
      "Press 1 for selection 1\n",
      "Press 2 for selection 2\n",
      "Press 3 to quit\n",
      "Enter your choice: 1\n",
      "Please choose an option from the list below:\n",
      "Press 1 for selection 1\n",
      "Press 2 for selection 2\n",
      "Press 3 to quit\n",
      "Enter your choice: 2\n",
      "Please choose an option from the list below:\n",
      "Press 1 for selection 1\n",
      "Press 2 for selection 2\n",
      "Press 3 to quit\n",
      "Enter your choice: 3\n"
     ]
    }
   ],
   "source": [
    "#when you don't know how many iterations are taking place\n",
    "\n",
    "while True:\n",
    "    print(\"Please choose an option from the list below:\")\n",
    "    print(\"Press 1 for selection 1\")\n",
    "    print(\"Press 2 for selection 2\")\n",
    "    print(\"Press 3 to quit\")\n",
    "    selection = input(\"Enter your choice: \")\n",
    "    if int(selection) == 3:\n",
    "        break"
   ]
  },
  {
   "cell_type": "code",
   "execution_count": null,
   "metadata": {},
   "outputs": [],
   "source": [
    "from random import randint\n",
    "\n",
    "l1 = ['.py', '.js', '.rb', '.java']\n",
    "l2 = ['python', 'javascript', 'ruby', 'java']\n",
    "tupled_list = list(zip(l2,l1))\n",
    "print(tupled_list)"
   ]
  },
  {
   "cell_type": "markdown",
   "metadata": {},
   "source": [
    "# Functions"
   ]
  },
  {
   "cell_type": "markdown",
   "metadata": {},
   "source": [
    "structure of a function\n",
    "\n",
    "\n",
    "The name should be separated by underscores and also it needs to be something descriptive.\n",
    "\n",
    "\n",
    "def name_of_func(): \n",
    "    code to perform function operations\n",
    "    must be indented to be considered\n",
    "    part of the function\n",
    "    \n",
    "A function may or may not include parameters.\n",
    "\n",
    "A function might have return value specified, otherwise returns None by default.\n",
    "\n",
    "It is good to include a docstring in the function to provide information about it.\n",
    "\n",
    "It is also good to limit a function to perform only one defined function.\n",
    "\n",
    "Functions can return multiple values (as tuples)"
   ]
  },
  {
   "cell_type": "code",
   "execution_count": 2,
   "metadata": {},
   "outputs": [],
   "source": [
    "#includes parameters:\n",
    "\n",
    "def add_two_nums(num_1, num_2):\n",
    "    print(num_1 + num_2)\n",
    "\n",
    "#does not include parameters:\n",
    "\n",
    "def say_hello():\n",
    "    print(\"Hello World!\")"
   ]
  },
  {
   "cell_type": "code",
   "execution_count": 7,
   "metadata": {},
   "outputs": [
    {
     "name": "stdout",
     "output_type": "stream",
     "text": [
      "20\n",
      "20\n",
      "Hello World!\n"
     ]
    }
   ],
   "source": [
    "#return integer value (must use print to show result on the screen)\n",
    "\n",
    "def add_two_nums(num_1, num_2):\n",
    "    return num_1 + num_2\n",
    "\n",
    "print(add_two_nums(13,7))\n",
    "#or\n",
    "result = add_two_nums(13,7)\n",
    "print(result)\n",
    "\n",
    "#return value none:\n",
    "def say_hello():\n",
    "    \"'This function prints Hello World'\" #docstring\n",
    "    print(\"Hello World!\")\n",
    "    \n",
    "say_hello()"
   ]
  },
  {
   "cell_type": "code",
   "execution_count": 12,
   "metadata": {},
   "outputs": [
    {
     "name": "stdout",
     "output_type": "stream",
     "text": [
      "Welcome to the program, what is your name?\n",
      "Enter your response: Fernanda\n",
      "Your response was Fernanda.\n",
      "What's your favorite food?\n",
      "Enter your response: Sushi\n",
      "Your response was Sushi.\n",
      "What kind of music do you like?\n",
      "Enter your response: Progressive metal\n",
      "Your response was Progressive metal.\n"
     ]
    },
    {
     "data": {
      "text/plain": [
       "'Hello'"
      ]
     },
     "execution_count": 12,
     "metadata": {},
     "output_type": "execute_result"
    }
   ],
   "source": [
    "def get_input_from_user():\n",
    "    result = input(\"Enter your response: \")\n",
    "    print(f\"Your response was {result}.\")\n",
    "\n",
    "print(\"Welcome to the program, what is your name?\")\n",
    "get_input_from_user()\n",
    "print(\"What's your favorite food?\")\n",
    "get_input_from_user()\n",
    "print(\"What kind of music do you like?\")\n",
    "get_input_from_user()"
   ]
  },
  {
   "cell_type": "code",
   "execution_count": null,
   "metadata": {},
   "outputs": [
    {
     "name": "stdout",
     "output_type": "stream",
     "text": [
      "Welcome to the program, what is your name?\n",
      "Enter your response: \n",
      "What's your favorite food?\n"
     ]
    }
   ],
   "source": [
    "def get_input_from_user():\n",
    "    result = input(\"Enter your response: \")\n",
    "    return result\n",
    "\n",
    "print(\"Welcome to the program, what is your name?\")\n",
    "name_result = get_input_from_user()\n",
    "print(\"What's your favorite food?\")\n",
    "food_result = get_input_from_user()\n",
    "print(\"What kind of music do you like?\")\n",
    "music_result = get_input_from_user()\n",
    "\n",
    "print(f\"To summarize: Your name is {name_result},\\\n",
    "your favorite food is {food_result} and you enjoy listening to {music_result}\")"
   ]
  },
  {
   "cell_type": "code",
   "execution_count": null,
   "metadata": {},
   "outputs": [],
   "source": [
    "# the variables inside the functions are local to these functions only\n",
    "# the global frame does not have access to them"
   ]
  },
  {
   "cell_type": "markdown",
   "metadata": {},
   "source": [
    "# Objects\n",
    "\n",
    "Custom Objects: classes\n",
    "\n",
    "EVERYTHING in Python is an object (strings, integers, functions, tuples, etc.)\n",
    "\n",
    "It is possible to create custom objects of your own.\n",
    "\n",
    "Functions associated with instances of Objects are known as methods.\n",
    "\n",
    "Methods look different from functions in how they are called. As an example:\n",
    "\n",
    "method: my_list.append() or mu_list.sort()\n",
    "\n",
    "function: sorted(my_list)\n",
    "\n"
   ]
  },
  {
   "cell_type": "code",
   "execution_count": 3,
   "metadata": {},
   "outputs": [
    {
     "data": {
      "text/plain": [
       "['__add__',\n",
       " '__class__',\n",
       " '__contains__',\n",
       " '__delattr__',\n",
       " '__delitem__',\n",
       " '__dir__',\n",
       " '__doc__',\n",
       " '__eq__',\n",
       " '__format__',\n",
       " '__ge__',\n",
       " '__getattribute__',\n",
       " '__getitem__',\n",
       " '__gt__',\n",
       " '__hash__',\n",
       " '__iadd__',\n",
       " '__imul__',\n",
       " '__init__',\n",
       " '__init_subclass__',\n",
       " '__iter__',\n",
       " '__le__',\n",
       " '__len__',\n",
       " '__lt__',\n",
       " '__mul__',\n",
       " '__ne__',\n",
       " '__new__',\n",
       " '__reduce__',\n",
       " '__reduce_ex__',\n",
       " '__repr__',\n",
       " '__reversed__',\n",
       " '__rmul__',\n",
       " '__setattr__',\n",
       " '__setitem__',\n",
       " '__sizeof__',\n",
       " '__str__',\n",
       " '__subclasshook__',\n",
       " 'append',\n",
       " 'clear',\n",
       " 'copy',\n",
       " 'count',\n",
       " 'extend',\n",
       " 'index',\n",
       " 'insert',\n",
       " 'pop',\n",
       " 'remove',\n",
       " 'reverse',\n",
       " 'sort']"
      ]
     },
     "execution_count": 3,
     "metadata": {},
     "output_type": "execute_result"
    }
   ],
   "source": [
    "my_list = [1,4,7]\n",
    "my_string = \"fernanda\"\n",
    "my_dictionary = {'g':'gelato','p':'pizza','s':'sushi'}\n",
    "\n",
    "# methods can be associated with specific classes or data types w/ dir function\n",
    "\n",
    "dir(my_list)"
   ]
  },
  {
   "cell_type": "markdown",
   "metadata": {},
   "source": [
    "# methods\n",
    "\n",
    "__init__()\n",
    "\n",
    "initializes an object, basically creating an instance of the class"
   ]
  },
  {
   "cell_type": "code",
   "execution_count": 36,
   "metadata": {},
   "outputs": [
    {
     "name": "stdout",
     "output_type": "stream",
     "text": [
      "First name: Fernanda         \n",
      "Last name: Formiga         \n",
      "Courses: Python, Rails, Javascript\n",
      "First name: Caio         \n",
      "Last name: Formiga         \n",
      "Courses: \n",
      "\n",
      "\n",
      "fernanda formiga ['python', 'rails', 'javascript']\n",
      "caio formiga []\n",
      "\n",
      "\n",
      "fernanda is already enrolled in the course.\n",
      "fernanda formiga ['python', 'rails', 'javascript', 'ruby']\n",
      "\n",
      "\n",
      "fernanda isn't enrolled in c course.\n",
      "fernanda formiga ['python', 'rails', 'javascript']\n",
      "\n",
      "\n",
      "First name: Fernanda         \n",
      "Last name: Formiga         \n",
      "Courses: Python, Rails, Javascript\n",
      "\n",
      "\n",
      "3\n",
      "\n",
      "\n",
      "Student('fernanda', 'formiga',         '['python', 'rails', 'javascript']')\n",
      "\n",
      "\n",
      "['__class__', '__delattr__', '__dict__', '__dir__', '__doc__', '__eq__', '__format__', '__ge__', '__getattribute__', '__gt__', '__hash__', '__init__', '__init_subclass__', '__le__', '__len__', '__lt__', '__module__', '__ne__', '__new__', '__reduce__', '__reduce_ex__', '__repr__', '__setattr__', '__sizeof__', '__str__', '__subclasshook__', '__weakref__', 'add_course', 'courses', 'first_name', 'last_name', 'remove_course']\n",
      "\n",
      "\n",
      "{'first_name': 'fernanda', 'last_name': 'formiga', 'courses': ['python', 'rails', 'javascript']}\n"
     ]
    }
   ],
   "source": [
    "#creating a custom student class\n",
    "\n",
    "class Student: #capitalize each word in class name\n",
    "    \n",
    "    def __init__(self, first, last, courses=None):\n",
    "        #dunder init method, special method\n",
    "        self.first_name = first\n",
    "        self.last_name = last\n",
    "        if courses == None:\n",
    "            self.courses = []\n",
    "        else:\n",
    "            self.courses = courses\n",
    "        #courses might exist or not\n",
    "        \n",
    "    def add_course(self, course):\n",
    "        if course not in self.courses:\n",
    "            self.courses.append(course)\n",
    "        else:\n",
    "            print(f\"{self.first_name} is already enrolled in the course.\")\n",
    "    \n",
    "    def remove_course(self, course):\n",
    "        if course not in self.courses:\n",
    "            print(f\"{self.first_name} isn't enrolled in {course} course.\")\n",
    "        else:\n",
    "            self.courses.remove(course)\n",
    "    \n",
    "    def __len__(self):\n",
    "        return len(self.courses)\n",
    "    \n",
    "    def __repr__(self):\n",
    "        #often confused with the dunder str method\n",
    "        #more intended for other devs than the user\n",
    "        return f\"Student('{self.first_name}', '{self.last_name}', \\\n",
    "        '{self.courses}')\"\n",
    "        \n",
    "        \n",
    "    def __str__(self):\n",
    "        return f\"First name: {self.first_name.capitalize()} \\\n",
    "        \\nLast name: {self.last_name.capitalize()} \\\n",
    "        \\nCourses: {', '.join(map(str.capitalize, self.courses))}\"\n",
    "    \n",
    "#by convention, the first argument is \"self\", the object's instance\n",
    "        \n",
    "courses_1 = ['python', 'rails', 'javascript']\n",
    "courses_2 = ['java', 'c', 'php']\n",
    "fernanda = Student('fernanda', 'formiga', courses_1)\n",
    "caio = Student('caio', 'formiga')\n",
    "\n",
    "#caio = Student() create a new object of Student class\n",
    "#caio.first_name = \"caio\"\n",
    "#caio.last_name = \"formiga\"\n",
    "\n",
    "print(fernanda)\n",
    "print(caio)\n",
    "\n",
    "#the output shows both are student objects and their memory locations\n",
    "#same class, but different instances\n",
    "\n",
    "print(\"\\n\")\n",
    "\n",
    "print(fernanda.first_name, fernanda.last_name, fernanda.courses)\n",
    "print(caio.first_name, caio.last_name, caio.courses)\n",
    "\n",
    "print(\"\\n\")\n",
    "\n",
    "fernanda.add_course(\"python\")\n",
    "fernanda.add_course(\"ruby\")\n",
    "print(fernanda.first_name, fernanda.last_name, fernanda.courses)\n",
    "\n",
    "print(\"\\n\")\n",
    "\n",
    "fernanda.remove_course(\"ruby\")\n",
    "fernanda.remove_course(\"c\")\n",
    "print(fernanda.first_name, fernanda.last_name, fernanda.courses)\n",
    "\n",
    "print(\"\\n\")\n",
    "\n",
    "print(fernanda) #str method\n",
    "\n",
    "print(\"\\n\")\n",
    "\n",
    "print(len(fernanda)) #number of courses\n",
    "\n",
    "print(\"\\n\")\n",
    "\n",
    "print(repr(fernanda))\n",
    "\n",
    "print(\"\\n\")\n",
    "\n",
    "print(dir(fernanda)) #it is possible to see the new added methods \n",
    "\n",
    "print(\"\\n\")\n",
    "\n",
    "print(fernanda.__dict__) #dictionary representation of the object"
   ]
  },
  {
   "cell_type": "markdown",
   "metadata": {},
   "source": [
    "# files"
   ]
  },
  {
   "cell_type": "code",
   "execution_count": 4,
   "metadata": {},
   "outputs": [
    {
     "ename": "NameError",
     "evalue": "name 'Student' is not defined",
     "output_type": "error",
     "traceback": [
      "\u001b[1;31m---------------------------------------------------------------------------\u001b[0m",
      "\u001b[1;31mNameError\u001b[0m                                 Traceback (most recent call last)",
      "\u001b[1;32m<ipython-input-4-d9e6ef7d37ff>\u001b[0m in \u001b[0;36m<module>\u001b[1;34m\u001b[0m\n\u001b[0;32m      9\u001b[0m \u001b[1;31m#python code\u001b[0m\u001b[1;33m\u001b[0m\u001b[1;33m\u001b[0m\u001b[1;33m\u001b[0m\u001b[0m\n\u001b[0;32m     10\u001b[0m \u001b[0mfile_name\u001b[0m \u001b[1;33m=\u001b[0m \u001b[1;34m\"data.txt\"\u001b[0m\u001b[1;33m\u001b[0m\u001b[1;33m\u001b[0m\u001b[0m\n\u001b[1;32m---> 11\u001b[1;33m \u001b[0mfernanda\u001b[0m \u001b[1;33m=\u001b[0m \u001b[0mStudent\u001b[0m\u001b[1;33m(\u001b[0m\u001b[1;34m\"fernanda\"\u001b[0m\u001b[1;33m,\u001b[0m\u001b[1;34m\"formiga\"\u001b[0m\u001b[1;33m,\u001b[0m\u001b[1;33m[\u001b[0m\u001b[1;34m\"python\"\u001b[0m\u001b[1;33m,\u001b[0m\u001b[1;34m\"c\"\u001b[0m\u001b[1;33m,\u001b[0m\u001b[1;34m\"java\"\u001b[0m\u001b[1;33m]\u001b[0m\u001b[1;33m)\u001b[0m\u001b[1;33m\u001b[0m\u001b[1;33m\u001b[0m\u001b[0m\n\u001b[0m\u001b[0;32m     12\u001b[0m \u001b[0mprint\u001b[0m\u001b[1;33m(\u001b[0m\u001b[0mfernanda\u001b[0m\u001b[1;33m.\u001b[0m\u001b[0mfind_in_file\u001b[0m\u001b[1;33m(\u001b[0m\u001b[0mfile_name\u001b[0m\u001b[1;33m)\u001b[0m\u001b[1;33m)\u001b[0m \u001b[1;31m#true, student exists in file\u001b[0m\u001b[1;33m\u001b[0m\u001b[1;33m\u001b[0m\u001b[0m\n\u001b[0;32m     13\u001b[0m \u001b[0mprint\u001b[0m\u001b[1;33m(\u001b[0m\u001b[0mfernanda\u001b[0m\u001b[1;33m.\u001b[0m\u001b[0madd_to_file\u001b[0m\u001b[1;33m(\u001b[0m\u001b[0mfile_name\u001b[0m\u001b[1;33m)\u001b[0m\u001b[1;33m)\u001b[0m \u001b[1;31m#it will fail, student already exists\u001b[0m\u001b[1;33m\u001b[0m\u001b[1;33m\u001b[0m\u001b[0m\n",
      "\u001b[1;31mNameError\u001b[0m: name 'Student' is not defined"
     ]
    }
   ],
   "source": [
    "#consider there is a text file named data.txt\n",
    "#it contains the name os the students and the courses they are enrolled in\n",
    "#the files should be in the same directory\n",
    "#if they are in different directories, it is necessary to provide entire path\n",
    "#fernanda,formiga:python,c,java\n",
    "#davi,queiroga:javascript,ruby,rails\n",
    "\n",
    "\n",
    "#python code\n",
    "file_name = \"data.txt\"\n",
    "fernanda = Student(\"fernanda\",\"formiga\",[\"python\",\"c\",\"java\"])\n",
    "print(fernanda.find_in_file(file_name)) #true, student exists in file\n",
    "print(fernanda.add_to_file(file_name)) #it will fail, student already exists\n",
    "alexandre = Student(\"alexandre\",\"granet\",[\"javascript\",\"php\",\"java\"])\n",
    "print(alexandre.find_in_file(file_name)) #false, student is not im the file\n",
    "print(alexandre.add_to_file(file_name)) #student will be added to file\n",
    "\n",
    "pass\n"
   ]
  },
  {
   "cell_type": "code",
   "execution_count": 6,
   "metadata": {},
   "outputs": [
    {
     "ename": "SyntaxError",
     "evalue": "invalid syntax (<ipython-input-6-13e016576695>, line 28)",
     "output_type": "error",
     "traceback": [
      "\u001b[1;36m  File \u001b[1;32m\"<ipython-input-6-13e016576695>\"\u001b[1;36m, line \u001b[1;32m28\u001b[0m\n\u001b[1;33m    with open(file_name, \"a+\") as to write:\u001b[0m\n\u001b[1;37m                                         ^\u001b[0m\n\u001b[1;31mSyntaxError\u001b[0m\u001b[1;31m:\u001b[0m invalid syntax\n"
     ]
    }
   ],
   "source": [
    "#open a file\n",
    "\n",
    "file_name = \"data.txt\"\n",
    "f = open(file_name)\n",
    "f_contents = f.readline() #or f.read()\n",
    "print(f_contents)\n",
    "f.close()\n",
    "\n",
    "#iterate line by line of the file\n",
    "#use loop\n",
    "\n",
    "file_name = \"data.txt\"\n",
    "f = open(file_name)\n",
    "for line in f:\n",
    "    print(line.strip()) #.strip() removes the empty lines in between\n",
    "f.close()\n",
    "\n",
    "#other way with no need to close\n",
    "file_name = \"data.txt\"\n",
    "with open(file_name) as f:\n",
    "    for line in f:\n",
    "        print(line.strip()) #.strip() removes the empty lines in between\n",
    "\n",
    "        \n",
    "record_to_add = \"samuel,oliveira:python,ruby,java\"\n",
    "#open file with writing permission\n",
    "\n",
    "with open(file_name, \"a+\") as to write:\n",
    "    to_write.write(record_to_add+\"\\n\")\n",
    "\n",
    "#a+: append to end of file\n",
    "#r: read\n",
    "#w: overwrites file\n",
    "\n",
    "#function to convert strings to parameters\n",
    "\n",
    "record_to_add = \"samuel,oliveira:python,ruby,java\"\n",
    "\n",
    "file_name = \"data.txt\"\n",
    "\n",
    "with open(file_name) as f:\n",
    "    for line in f:\n",
    "        print(line.strip())\n",
    "        line = line.split(\":\") #\":\" separates courses and name as strings\n",
    "        first_name, last_name = line[0].split(\",\")\n",
    "        course_details = line[1].split(\",\")\n",
    "        print(first_name, last_name, course_details)\n",
    "        \n",
    "#return the options as a function\n",
    "\n",
    "@staticmethod #static method for the class Student\n",
    "def prep_record(line):\n",
    "    line = line.split(\":\") #\":\" separates courses and name as strings\n",
    "    first_name, last_name = line[0].split(\",\")\n",
    "    course_details = line[1].split(\",\")\n",
    "    return first_name, last_name, course_details\n",
    "\n",
    "#function to convert Student object to string for write to file\n",
    "\n",
    "@staticmethod\n",
    "def prep_to_write(first_name, last_name, courses):\n",
    "    courses = \",\".join(courses)\n",
    "    return full_name+':'+courses\n",
    "\n",
    "with open(file_name) as f:\n",
    "    for line in f:\n",
    "        print(line.strip())\n",
    "        first_name, last_name, course_details = prep_record(line)\n",
    "        print(first_name, last_name, course_details)\n",
    "        \n",
    "to_write = prep_to_write(first_name, last_name, course_details)\n",
    "print(to_write)\n",
    "record_to_add = \"andré,figueiredo:python, c, java\"\n",
    "\n",
    "def __eq__(self,other): #defines what the comparison should be based on\n",
    "    return self.first_name == other.first_name \\\n",
    "    and self.last_name == other.last_name \n",
    "\n",
    "#inside class Student:\n",
    "\n",
    "def find_in_file(self, filename): #find object in a text file\n",
    "    with open(filename) as f:\n",
    "        for line in f:\n",
    "            first_name, last_name, course details = Student.prep_record(line)\n",
    "            student_read_in = Student(first_name, last_name, course_details)\n",
    "            print(first_name, last_name, course_details)\n",
    "            if self == student_read_in: #without eq function, it wouldn't work\n",
    "                return True\n",
    "        return False\n",
    "\n",
    "def add_to_file(self, filename):\n",
    "    if self.find_in_file(filename):\n",
    "        return \"Record already exists\"\n",
    "    else:\n",
    "        record_to_add = Student.prep_to_write(self.first_name, self.last_name, courses)\n",
    "        with open(filename, \"a+\") as to_write:\n",
    "            to_write.write(record_to_add+\"\\n\")\n",
    "        return \"Record added\"\n",
    "    \n",
    "print(andré.find_in_file(file_name)\n",
    "print(andré.add_to_file(file_name)"
   ]
  },
  {
   "cell_type": "markdown",
   "metadata": {},
   "source": [
    "# lambda expressions"
   ]
  },
  {
   "cell_type": "code",
   "execution_count": 5,
   "metadata": {},
   "outputs": [
    {
     "name": "stdout",
     "output_type": "stream",
     "text": [
      "125\n",
      "125\n"
     ]
    }
   ],
   "source": [
    "def my_math_func(x,f):\n",
    "    return f(x)\n",
    "\n",
    "def x_cube(x):\n",
    "    return x**3\n",
    "\n",
    "print(my_math_func(5, x_cube))\n",
    "\n",
    "#other way using lambda\n",
    "\n",
    "def my_math_func(x,f):\n",
    "    return f(x)\n",
    "\n",
    "lambda x: x**3 #could also assign the expression to a variable my_lambda(5)\n",
    "print(my_math_func(5, lambda x: x**3))"
   ]
  },
  {
   "cell_type": "code",
   "execution_count": 15,
   "metadata": {},
   "outputs": [
    {
     "name": "stdout",
     "output_type": "stream",
     "text": [
      "['A', 'B', 'C', 'D', 'E', 'F']\n",
      "\n",
      "\n",
      "['aA', 'bB', 'cC', 'dD', 'eE', 'fF']\n",
      "\n",
      "\n",
      "[436, 210, 877, 87, 758, 481, 564, 609, 139, 525, 15, 113, 228, 18, 514, 228, 777, 809, 540, 840, 909, 869, 844, 770, 690, 946, 475, 514, 303, 580, 421, 385, 755, 812, 593, 621, 1, 694, 985, 469, 817, 147, 181, 518, 248, 529, 656, 77, 81, 84, 198, 666, 32, 1000, 806, 741, 771, 613, 462, 360, 148, 508, 471, 68, 473, 421, 577, 399, 146, 111, 634, 940, 216, 117, 953, 963, 441, 399, 612, 558, 571, 244, 919, 164, 189, 325, 306, 853, 474, 863, 977, 356, 558, 916, 174, 741, 420, 467, 596, 572]\n",
      "\n",
      "\n",
      "[190096, 44100, 769129, 7569, 574564, 231361, 318096, 370881, 19321, 275625, 225, 12769, 51984, 324, 264196, 51984, 603729, 654481, 291600, 705600, 826281, 755161, 712336, 592900, 476100, 894916, 225625, 264196, 91809, 336400, 177241, 148225, 570025, 659344, 351649, 385641, 1, 481636, 970225, 219961, 667489, 21609, 32761, 268324, 61504, 279841, 430336, 5929, 6561, 7056, 39204, 443556, 1024, 1000000, 649636, 549081, 594441, 375769, 213444, 129600, 21904, 258064, 221841, 4624, 223729, 177241, 332929, 159201, 21316, 12321, 401956, 883600, 46656, 13689, 908209, 927369, 194481, 159201, 374544, 311364, 326041, 59536, 844561, 26896, 35721, 105625, 93636, 727609, 224676, 744769, 954529, 126736, 311364, 839056, 30276, 549081, 176400, 218089, 355216, 327184]\n"
     ]
    }
   ],
   "source": [
    "from random import randint\n",
    "\n",
    "my_letters = ['a', 'b', 'c', 'd', 'e', 'f']\n",
    "print(list(map(str.capitalize, my_letters)))\n",
    "\n",
    "print(\"\\n\")\n",
    "\n",
    "print(list(map(lambda x:x+x.capitalize(), my_letters)))\n",
    "\n",
    "print(\"\\n\")\n",
    "\n",
    "my_ints = [randint(1,1000) for num in range(100)]\n",
    "print(my_ints)\n",
    "\n",
    "print(\"\\n\")\n",
    "\n",
    "print(list(map(lambda x:x**2, my_ints)))"
   ]
  },
  {
   "cell_type": "markdown",
   "metadata": {},
   "source": [
    "# generators"
   ]
  },
  {
   "cell_type": "code",
   "execution_count": 1,
   "metadata": {},
   "outputs": [
    {
     "name": "stdout",
     "output_type": "stream",
     "text": [
      "(1, 1)\n",
      "(2, 2)\n",
      "(3, 3)\n",
      "(4, 4)\n",
      "(5, 5)\n",
      "(6, 6)\n",
      "(7, 7)\n",
      "(8, 8)\n",
      "(9, 9)\n",
      "(10, 10)\n",
      "\n",
      "\n"
     ]
    }
   ],
   "source": [
    "l1 = [num for num in range(1,11)]\n",
    "l2 = [num for num in range(1,11)]\n",
    "\n",
    "\n",
    "#the zip function creates a combined list of tuples from multiple lists\n",
    "my_zipped_generator = zip(l1, l2)\n",
    "\n",
    "print(next(my_zipped_generator))\n",
    "print(next(my_zipped_generator))\n",
    "print(next(my_zipped_generator))\n",
    "print(next(my_zipped_generator))\n",
    "print(next(my_zipped_generator))\n",
    "print(next(my_zipped_generator))\n",
    "print(next(my_zipped_generator))\n",
    "print(next(my_zipped_generator))\n",
    "print(next(my_zipped_generator))\n",
    "print(next(my_zipped_generator))\n",
    "\n",
    "#the generator gets exhausted one by one\n",
    "\n",
    "#print(list(my_zipped_generator))\n",
    "#it will print the list of tuples side by side\n",
    "\n",
    "#for item in my_zipped_generator:\n",
    "#    print(item)\n",
    "\n",
    "print(\"\\n\")"
   ]
  },
  {
   "cell_type": "code",
   "execution_count": 9,
   "metadata": {},
   "outputs": [
    {
     "name": "stdout",
     "output_type": "stream",
     "text": [
      "[1, 8, 27, 64, 125, 216, 343, 512, 729, 1000]\n",
      "[1, 2, 3, 4, 5, 6, 7, 8, 9, 10]\n",
      "<generator object mash_map at 0x000002258F339948>\n",
      "1\n",
      "8\n",
      "27\n",
      "64\n",
      "[125, 216, 343, 512, 729, 1000]\n"
     ]
    }
   ],
   "source": [
    "#generators, yield\n",
    "\n",
    "l1 = [num for num in range(1,11)]\n",
    "\n",
    "#map\n",
    "my_cubbed_ints = map(lambda x:x**3, l1)\n",
    "print(list(my_cubbed_ints))\n",
    "\n",
    "#print(list(my_cubbed_ints))\n",
    "#the generator is exhausted, so it would throw back an error\n",
    "\n",
    "\n",
    "#create function that works like map function\n",
    "#def mash_map(f, some_iterable):\n",
    "#    result = []\n",
    "#    for item in some_iterable:\n",
    "#        result.append(f(item))\n",
    "#    return result\n",
    "\n",
    "#convert mash_map to a generator\n",
    "\n",
    "def mash_map(f, some_iterable):\n",
    "    for item in some_iterable:\n",
    "        yield f(item)\n",
    "\n",
    "print(l1)\n",
    "my_cubbed_ints = mash_map(lambda x: x**3, l1)\n",
    "print(my_cubbed_ints)\n",
    "print(next(my_cubbed_ints))\n",
    "print(next(my_cubbed_ints))\n",
    "print(next(my_cubbed_ints))\n",
    "print(next(my_cubbed_ints))\n",
    "print(list(my_cubbed_ints))"
   ]
  },
  {
   "cell_type": "markdown",
   "metadata": {},
   "source": [
    "# algorithms: sort, performance, complexity and big O notation"
   ]
  },
  {
   "cell_type": "code",
   "execution_count": 13,
   "metadata": {},
   "outputs": [
    {
     "name": "stdout",
     "output_type": "stream",
     "text": [
      "False\n"
     ]
    }
   ],
   "source": [
    "#bubble sort\n",
    "\n",
    "def bubble_sort(arr):\n",
    "    print(arr[0] > arr[1]) # 1 < 9, so it will print False\n",
    "\n",
    "l = [1, 9, 3, 4, 6, 20, 13, 19, 2]\n",
    "bubble_sort(l)"
   ]
  },
  {
   "cell_type": "code",
   "execution_count": 20,
   "metadata": {},
   "outputs": [
    {
     "name": "stdout",
     "output_type": "stream",
     "text": [
      "Swap happened\n",
      "[1, 3, 9, 4, 6, 20, 13, 19, 2]\n",
      "Swap happened\n",
      "[1, 3, 4, 9, 6, 20, 13, 19, 2]\n",
      "Swap happened\n",
      "[1, 3, 4, 6, 9, 20, 13, 19, 2]\n",
      "Swap happened\n",
      "[1, 3, 4, 6, 9, 13, 20, 19, 2]\n",
      "Swap happened\n",
      "[1, 3, 4, 6, 9, 13, 19, 20, 2]\n",
      "Swap happened\n",
      "[1, 3, 4, 6, 9, 13, 19, 2, 20]\n"
     ]
    }
   ],
   "source": [
    "def bubble_sort(arr):\n",
    "    for num in range(len(arr)-1):\n",
    "        if arr[num] > arr[num+1]:\n",
    "            print(\"Swap happened\")\n",
    "            arr[num], arr[num+1] = arr[num+1], arr[num]\n",
    "            print(arr)\n",
    "            \n",
    "\n",
    "#(len(arr)-1)\n",
    "#i dont need the loop to go to the last element\n",
    "#there is nothing after that to compare\n",
    "\n",
    "#it will print one way through the list\n",
    "\n",
    "#there are 9 elements in the list\n",
    "#running 9 loops would work, but it could be inefficient\n",
    "\n",
    "l = [1, 9, 3, 4, 6, 20, 13, 19, 2]\n",
    "bubble_sort(l)"
   ]
  },
  {
   "cell_type": "code",
   "execution_count": 1,
   "metadata": {},
   "outputs": [
    {
     "name": "stdout",
     "output_type": "stream",
     "text": [
      "bubble sort status: [1, 9, 3, 4, 6, 20, 13, 19, 2]\n",
      "bubble sort status: [1, 3, 4, 6, 9, 13, 19, 2, 20]\n",
      "bubble sort status: [1, 3, 4, 6, 9, 13, 2, 19, 20]\n",
      "bubble sort status: [1, 3, 4, 6, 9, 2, 13, 19, 20]\n",
      "bubble sort status: [1, 3, 4, 6, 2, 9, 13, 19, 20]\n",
      "bubble sort status: [1, 3, 4, 2, 6, 9, 13, 19, 20]\n",
      "bubble sort status: [1, 3, 2, 4, 6, 9, 13, 19, 20]\n",
      "bubble sort status: [1, 2, 3, 4, 6, 9, 13, 19, 20]\n"
     ]
    }
   ],
   "source": [
    "def bubble_sort(arr):\n",
    "    swap_happened = True #set it True for the loop to run for the first time\n",
    "    #it will keep running as long as swap_happened is True\n",
    "    while swap_happened:\n",
    "        print('bubble sort status: ' + str(arr))\n",
    "        swap_happened = False #so it wont keep runnning forever\n",
    "        for num in range(len(arr)-1):\n",
    "            if arr[num] > arr[num+1]:\n",
    "                swap_happened = True\n",
    "                arr[num], arr[num+1] = arr[num+1], arr[num]\n",
    "                \n",
    "            \n",
    "l = [1, 9, 3, 4, 6, 20, 13, 19, 2]\n",
    "bubble_sort(l)"
   ]
  },
  {
   "cell_type": "code",
   "execution_count": 1,
   "metadata": {},
   "outputs": [
    {
     "name": "stdout",
     "output_type": "stream",
     "text": [
      "[1, 8, 6, 4, 10, 3, 7, 2, 5, 9]\n",
      "[1, 2, 8, 6, 10, 4, 7, 3, 5, 9]\n",
      "[1, 2, 3, 8, 10, 6, 7, 4, 5, 9]\n",
      "[1, 2, 3, 4, 10, 8, 7, 6, 5, 9]\n",
      "[1, 2, 3, 4, 5, 10, 8, 7, 6, 9]\n",
      "[1, 2, 3, 4, 5, 6, 10, 8, 7, 9]\n",
      "[1, 2, 3, 4, 5, 6, 7, 10, 8, 9]\n",
      "[1, 2, 3, 4, 5, 6, 7, 8, 10, 9]\n",
      "[1, 2, 3, 4, 5, 6, 7, 8, 9, 10]\n",
      "[1, 2, 3, 4, 5, 6, 7, 8, 9, 10]\n"
     ]
    }
   ],
   "source": [
    "# selection sort\n",
    "\n",
    "#set marker at first position and compare next elements\n",
    "#after that, set marker at second position and repeat\n",
    "\n",
    "def selection_sort(arr):\n",
    "    spot_marker = 0\n",
    "    while spot_marker < len(arr):\n",
    "        for num in range(spot_marker, len(arr)):\n",
    "            if arr[num] < arr[spot_marker]:\n",
    "                arr[spot_marker], arr[num] = arr[num], arr[spot_marker]\n",
    "        spot_marker += 1\n",
    "        print(arr)\n",
    "    \n",
    "l = [6, 8, 2, 4, 10, 3, 7, 1, 5, 9]\n",
    "selection_sort(l)"
   ]
  },
  {
   "cell_type": "code",
   "execution_count": 2,
   "metadata": {},
   "outputs": [
    {
     "name": "stdout",
     "output_type": "stream",
     "text": [
      " 5\n",
      " 6\n",
      " 11\n",
      " 12\n",
      " 13\n"
     ]
    }
   ],
   "source": [
    "#insertion sort\n",
    "\n",
    "# Function to do insertion sort \n",
    "def insertion_sort(arr): \n",
    "  \n",
    "    # Traverse through 1 to len(arr) \n",
    "    for i in range(1, len(arr)): \n",
    "  \n",
    "        key = arr[i] \n",
    "  \n",
    "        # Move elements of arr[0..i-1], that are \n",
    "        # greater than key, to one position ahead \n",
    "        # of their current position \n",
    "        j = i-1\n",
    "        while j >= 0 and key < arr[j] : \n",
    "                arr[j + 1] = arr[j] \n",
    "                j -= 1\n",
    "        arr[j + 1] = key \n",
    "  \n",
    "# Driver code to test above \n",
    "arr = [12, 11, 13, 5, 6] \n",
    "insertion_sort(arr) \n",
    "for i in range(len(arr)): \n",
    "    print (\"% d\" % arr[i]) "
   ]
  },
  {
   "cell_type": "code",
   "execution_count": 12,
   "metadata": {},
   "outputs": [
    {
     "name": "stdout",
     "output_type": "stream",
     "text": [
      "Merge function called with lists below:\n",
      "left: [1, 4, 6, 8, 10] and right: [2, 3, 5, 7, 8, 9]\n",
      "Left list index i is 0 and has value: 1\n",
      "Right list index i is 0 and has value: 2\n",
      "[1]\n",
      "Left list index i is 1 and has value: 4\n",
      "Right list index i is 0 and has value: 2\n",
      "[1, 2]\n",
      "Left list index i is 1 and has value: 4\n",
      "Right list index i is 1 and has value: 3\n",
      "[1, 2, 3]\n",
      "Left list index i is 1 and has value: 4\n",
      "Right list index i is 2 and has value: 5\n",
      "[1, 2, 3, 4]\n",
      "Left list index i is 2 and has value: 6\n",
      "Right list index i is 2 and has value: 5\n",
      "[1, 2, 3, 4, 5]\n",
      "Left list index i is 2 and has value: 6\n",
      "Right list index i is 3 and has value: 7\n",
      "[1, 2, 3, 4, 5, 6]\n",
      "Left list index i is 3 and has value: 8\n",
      "Right list index i is 3 and has value: 7\n",
      "[1, 2, 3, 4, 5, 6, 7]\n",
      "Left list index i is 3 and has value: 8\n",
      "Right list index i is 4 and has value: 8\n",
      "[1, 2, 3, 4, 5, 6, 7, 8]\n",
      "Left list index i is 3 and has value: 8\n",
      "Right list index i is 5 and has value: 9\n",
      "[1, 2, 3, 4, 5, 6, 7, 8, 8]\n",
      "Left list index i is 4 and has value: 10\n",
      "Right list index i is 5 and has value: 9\n",
      "[1, 2, 3, 4, 5, 6, 7, 8, 8, 9]\n",
      "4\n",
      "6\n",
      "Merged list: [1, 2, 3, 4, 5, 6, 7, 8, 8, 9, 10]\n"
     ]
    }
   ],
   "source": [
    "#merge sort\n",
    "\n",
    "def merge_sorted(arr1,arr2):\n",
    "    print(\"Merge function called with lists below:\")\n",
    "    print(f\"left: {arr1} and right: {arr2}\")\n",
    "    sorted_arr = []\n",
    "    i,j = 0,0\n",
    "    while i < len(arr1) and j < len(arr2):\n",
    "        print(f\"Left list index i is {i} and has value: {arr1[i]}\")\n",
    "        print(f\"Right list index i is {j} and has value: {arr2[j]}\")\n",
    "        if arr1[i] < arr2[j]:\n",
    "            sorted_arr.append(arr1[i])\n",
    "            i += 1\n",
    "        else:\n",
    "            sorted_arr.append(arr2[j])\n",
    "            j += 1\n",
    "        print(sorted_arr)\n",
    "         \n",
    "#those parts are added so we go through the entire lists with different lengths\n",
    "    while j < len(arr2):\n",
    "        sorted_arr.append(arr2[j])\n",
    "        j += 1\n",
    "    while i < len(arr1):\n",
    "        sorted_arr.append(arr1[i])\n",
    "        i += 1\n",
    "    return sorted_arr\n",
    "\n",
    "l1 = [1,4,6,8,10]\n",
    "l2 = [2,3,5,7,8,9]\n",
    "print(f\"Merged list: {merge_sorted(l1,l2)}\")"
   ]
  },
  {
   "cell_type": "code",
   "execution_count": 4,
   "metadata": {},
   "outputs": [
    {
     "name": "stdout",
     "output_type": "stream",
     "text": [
      "Current list to work with: [1, 3]\n",
      "Left split: [1]\n",
      "Right split: [3]\n",
      "Base condition reached with [1]\n",
      "Base condition reached with [3]\n",
      "\n",
      "\n",
      "Current list to work with: [2, 5, 3, 8, 6]\n",
      "Left split: [2, 5]\n",
      "Right split: [3, 8, 6]\n",
      "Current list to work with: [2, 5]\n",
      "Left split: [2]\n",
      "Right split: [5]\n",
      "Base condition reached with [2]\n",
      "Base condition reached with [5]\n",
      "Current list to work with: [3, 8, 6]\n",
      "Left split: [3]\n",
      "Right split: [8, 6]\n",
      "Base condition reached with [3]\n",
      "Current list to work with: [8, 6]\n",
      "Left split: [8]\n",
      "Right split: [6]\n",
      "Base condition reached with [8]\n",
      "Base condition reached with [6]\n"
     ]
    }
   ],
   "source": [
    "def divide_arr(arr):\n",
    "    if len(arr) < 2: #base case\n",
    "        print(f\"Base condition reached with {arr[:]}\")\n",
    "        return arr[:]\n",
    "    else:\n",
    "        middle = len(arr)//2 #integer division\n",
    "        print(\"Current list to work with:\", arr)\n",
    "        print(\"Left split:\", arr[:middle])\n",
    "        print(\"Right split:\", arr[middle:])\n",
    "        l = divide_arr(arr[:middle]) #calls function within the function\n",
    "        l = divide_arr(arr[middle:]) #variable name is irrelevant\n",
    "        \n",
    "list1 = [1,3]\n",
    "divide_arr(list1)\n",
    "\n",
    "print(\"\\n\")\n",
    "\n",
    "list2 = [2, 5, 3, 8, 6]\n",
    "divide_arr(list2)"
   ]
  },
  {
   "cell_type": "code",
   "execution_count": 8,
   "metadata": {},
   "outputs": [
    {
     "name": "stdout",
     "output_type": "stream",
     "text": [
      "Merge function called with lists below:\n",
      "left: [8] and right: [6]\n",
      "Left list index i is 0 and has value: 8\n",
      "Right list index i is 0 and has value: 6\n",
      "[6]\n",
      "Merge function called with lists below:\n",
      "left: [2] and right: [5]\n",
      "Left list index i is 0 and has value: 2\n",
      "Right list index i is 0 and has value: 5\n",
      "[2]\n",
      "Merge function called with lists below:\n",
      "left: [6, 8] and right: [2, 5]\n",
      "Left list index i is 0 and has value: 6\n",
      "Right list index i is 0 and has value: 2\n",
      "[2]\n",
      "Left list index i is 0 and has value: 6\n",
      "Right list index i is 1 and has value: 5\n",
      "[2, 5]\n",
      "Merge function called with lists below:\n",
      "left: [4] and right: [1]\n",
      "Left list index i is 0 and has value: 4\n",
      "Right list index i is 0 and has value: 1\n",
      "[1]\n",
      "Merge function called with lists below:\n",
      "left: [9] and right: [7]\n",
      "Left list index i is 0 and has value: 9\n",
      "Right list index i is 0 and has value: 7\n",
      "[7]\n",
      "Merge function called with lists below:\n",
      "left: [3] and right: [7, 9]\n",
      "Left list index i is 0 and has value: 3\n",
      "Right list index i is 0 and has value: 7\n",
      "[3]\n",
      "Merge function called with lists below:\n",
      "left: [1, 4] and right: [3, 7, 9]\n",
      "Left list index i is 0 and has value: 1\n",
      "Right list index i is 0 and has value: 3\n",
      "[1]\n",
      "Left list index i is 1 and has value: 4\n",
      "Right list index i is 0 and has value: 3\n",
      "[1, 3]\n",
      "Left list index i is 1 and has value: 4\n",
      "Right list index i is 1 and has value: 7\n",
      "[1, 3, 4]\n",
      "Merge function called with lists below:\n",
      "left: [2, 5, 6, 8] and right: [1, 3, 4, 7, 9]\n",
      "Left list index i is 0 and has value: 2\n",
      "Right list index i is 0 and has value: 1\n",
      "[1]\n",
      "Left list index i is 0 and has value: 2\n",
      "Right list index i is 1 and has value: 3\n",
      "[1, 2]\n",
      "Left list index i is 1 and has value: 5\n",
      "Right list index i is 1 and has value: 3\n",
      "[1, 2, 3]\n",
      "Left list index i is 1 and has value: 5\n",
      "Right list index i is 2 and has value: 4\n",
      "[1, 2, 3, 4]\n",
      "Left list index i is 1 and has value: 5\n",
      "Right list index i is 3 and has value: 7\n",
      "[1, 2, 3, 4, 5]\n",
      "Left list index i is 2 and has value: 6\n",
      "Right list index i is 3 and has value: 7\n",
      "[1, 2, 3, 4, 5, 6]\n",
      "Left list index i is 3 and has value: 8\n",
      "Right list index i is 3 and has value: 7\n",
      "[1, 2, 3, 4, 5, 6, 7]\n",
      "Left list index i is 3 and has value: 8\n",
      "Right list index i is 4 and has value: 9\n",
      "[1, 2, 3, 4, 5, 6, 7, 8]\n",
      "[1, 2, 3, 4, 5, 6, 7, 8, 9]\n"
     ]
    }
   ],
   "source": [
    "def merge_sorted(arr1,arr2):\n",
    "    print(\"Merge function called with lists below:\")\n",
    "    print(f\"left: {arr1} and right: {arr2}\")\n",
    "    sorted_arr = []\n",
    "    i,j = 0,0\n",
    "    while i < len(arr1) and j < len(arr2):\n",
    "        print(f\"Left list index i is {i} and has value: {arr1[i]}\")\n",
    "        print(f\"Right list index i is {j} and has value: {arr2[j]}\")\n",
    "        if arr1[i] < arr2[j]:\n",
    "            sorted_arr.append(arr1[i])\n",
    "            i += 1\n",
    "        else:\n",
    "            sorted_arr.append(arr2[j])\n",
    "            j += 1\n",
    "        print(sorted_arr)\n",
    "         \n",
    "#those parts are added so we go through the entire lists with different lengths\n",
    "    while j < len(arr2):\n",
    "        sorted_arr.append(arr2[j])\n",
    "        j += 1\n",
    "    while i < len(arr1):\n",
    "        sorted_arr.append(arr1[i])\n",
    "        i += 1\n",
    "    return sorted_arr\n",
    "\n",
    "def divide_arr(arr):\n",
    "    if len(arr) < 2:\n",
    "        return arr[:]\n",
    "    else:\n",
    "        middle = len(arr)//2\n",
    "        l1 = divide_arr(arr[:middle])\n",
    "        l2 = divide_arr(arr[middle:])\n",
    "        return merge_sorted(l1, l2)\n",
    "    \n",
    "l = [8, 6, 2, 5, 4, 1, 3, 9, 7]\n",
    "print(divide_arr(l))"
   ]
  },
  {
   "cell_type": "markdown",
   "metadata": {},
   "source": [
    "# recursion\n",
    "\n",
    "a function that calls itself\n",
    "\n",
    "it calls itself till it does not call itself anymore, simply to stop infinitely calling itself\n",
    "\n",
    "the condition where it stops calling itself is called base case\n",
    "\n",
    "when thinking of recursion, try to think about base case first"
   ]
  },
  {
   "cell_type": "code",
   "execution_count": 30,
   "metadata": {},
   "outputs": [
    {
     "name": "stdout",
     "output_type": "stream",
     "text": [
      "Counting down from 5:\n",
      "5\n",
      "4\n",
      "3\n",
      "2\n",
      "1\n",
      "None\n"
     ]
    }
   ],
   "source": [
    "#recursive countdown timer\n",
    "\n",
    "import time\n",
    "\n",
    "#recursive function\n",
    "def recur_countdown_timer(n):\n",
    "    if n == 0:\n",
    "        return n\n",
    "    else:\n",
    "        print(n)\n",
    "        time.sleep(1)\n",
    "        recur_countdown_timer(n-1)\n",
    "\n",
    "#iteration        \n",
    "def iter_countdown_timer(n): #prints number and counts until 0\n",
    "    while n > 0:\n",
    "        print(n)\n",
    "        time.sleep(1) #sleep provides a delay of 1 sec in this case\n",
    "        n -= 1\n",
    "    print(n)\n",
    "    \n",
    "z = 5\n",
    "\n",
    "print(f\"Counting down from {z}:\")\n",
    "#iter_countdown_timer(z)\n",
    "print(recur_countdown_timer(z))"
   ]
  },
  {
   "cell_type": "code",
   "execution_count": 29,
   "metadata": {
    "scrolled": true
   },
   "outputs": [
    {
     "name": "stdout",
     "output_type": "stream",
     "text": [
      "The value of 5! is 120\n"
     ]
    }
   ],
   "source": [
    "#factorial\n",
    "\n",
    "def factorial_recur(n):\n",
    "    if n == 0:\n",
    "        return 1\n",
    "    else:\n",
    "        return n* factorial_recur(n-1)\n",
    "    \n",
    "z = 5\n",
    "print(f\"The value of {z}! is {factorial_recur(z)}\")"
   ]
  },
  {
   "cell_type": "code",
   "execution_count": 3,
   "metadata": {},
   "outputs": [
    {
     "name": "stdout",
     "output_type": "stream",
     "text": [
      "The 0th number in the Fibonacci sequence is 0\n",
      "The 1th number in the Fibonacci sequence is 1\n",
      "The 10th number in the Fibonacci sequence is 55\n"
     ]
    }
   ],
   "source": [
    "#fibonacci (as a serie of integers)\n",
    "#value of Nth integer = (n-1) + (n-2)\n",
    "#0, 1, 1, 2, 3, 5, ...\n",
    "#two base cases: 0 and 1\n",
    "\n",
    "def fib_recur(n):\n",
    "    if n == 0:\n",
    "        return 0\n",
    "    elif n == 1:\n",
    "        return 1\n",
    "    else:\n",
    "        return fib_recur(n-1) + fib_recur(n-2)\n",
    "\n",
    "def fib_runner(z):\n",
    "    print(f\"The {z}th number in the Fibonacci sequence is {fib_recur(z)}\")\n",
    "    \n",
    "z = 0\n",
    "fib_runner(z)\n",
    "z = 1\n",
    "fib_runner(z)\n",
    "z = 10\n",
    "fib_runner(z)"
   ]
  },
  {
   "cell_type": "code",
   "execution_count": 3,
   "metadata": {},
   "outputs": [
    {
     "name": "stdout",
     "output_type": "stream",
     "text": [
      "[1, 2, 3, 4, 5, 6, 7, 8, 8, 9, 10]\n"
     ]
    }
   ],
   "source": [
    "#quicksort\n",
    "\n",
    "def quicksort(arr):\n",
    "    \n",
    "    if len(arr) < 2:\n",
    "        return arr\n",
    "    else:\n",
    "        pivot = arr[-1]\n",
    "        smaller, equal, larger = [], [], []\n",
    "        for num in arr:\n",
    "            if num < pivot:\n",
    "                smaller.append(num)\n",
    "            elif num == pivot:\n",
    "                equal.append(num)\n",
    "            else:\n",
    "                larger.append(num)       \n",
    "    return quicksort(smaller) + equal + quicksort(larger)\n",
    "    #if use commas, it will return a tuple\n",
    "\n",
    "\n",
    "l = [6, 8, 1, 4, 10, 7, 8, 9, 3, 2, 5]\n",
    "print(quicksort(l))"
   ]
  },
  {
   "cell_type": "markdown",
   "metadata": {},
   "source": [
    "# algorithms: search and abstract data structures"
   ]
  },
  {
   "cell_type": "code",
   "execution_count": 1,
   "metadata": {},
   "outputs": [],
   "source": [
    "#search\n",
    "\n",
    "#linear search: complexity of O(n)\n",
    "\n",
    "#bisection search (binary search): O(log(n))\n",
    "#works for sorted lists"
   ]
  },
  {
   "cell_type": "code",
   "execution_count": 1,
   "metadata": {},
   "outputs": [
    {
     "name": "stdout",
     "output_type": "stream",
     "text": [
      "5 found at index: 4\n"
     ]
    }
   ],
   "source": [
    "#bisection search\n",
    "\n",
    "#iterative implementation\n",
    "\n",
    "def bisection_iter(n, arr):\n",
    "    start = 0\n",
    "    stop = len(arr)-1\n",
    "    while start <= stop:\n",
    "        mid = (start + stop)//2\n",
    "        if n == arr[mid]:\n",
    "            return f\"{n} found at index: {mid}\"\n",
    "        elif n > arr[mid]:\n",
    "            start = mid + 1\n",
    "        else:\n",
    "            stop = mid - 1\n",
    "    print(\"start =\", start)\n",
    "    print(\"stop =\", stop)\n",
    "    return f\"{n} not found in list\"\n",
    "\n",
    "def create_list(max_val):\n",
    "    arr = []\n",
    "    for num in range(1, max_val+1):\n",
    "        arr.append(num)\n",
    "    return arr\n",
    "\n",
    "l = [1, 2, 3, 4, 5, 6, 7, 8, 9, 10]\n",
    "\n",
    "num_to_search = 5\n",
    "print(bisection_iter(num_to_search,l))"
   ]
  },
  {
   "cell_type": "code",
   "execution_count": 3,
   "metadata": {},
   "outputs": [
    {
     "name": "stdout",
     "output_type": "stream",
     "text": [
      "0 not found in list\n",
      "1 found at index: 0\n",
      "2 found at index: 1\n",
      "3 found at index: 2\n",
      "4 found at index: 3\n",
      "5 found at index: 4\n",
      "6 found at index: 5\n",
      "7 found at index: 6\n",
      "8 found at index: 7\n",
      "9 found at index: 8\n"
     ]
    }
   ],
   "source": [
    "#recursive implementation\n",
    "\n",
    "def bisection_recur(n, arr, start, stop):\n",
    "    if start > stop:\n",
    "        return f\"{n} not found in list\"\n",
    "    else:\n",
    "        mid = (start + stop) // 2\n",
    "        if n == arr[mid]:\n",
    "            return f\"{n} found at index: {mid}\"\n",
    "        elif n > arr[mid]:\n",
    "            return bisection_recur(n, arr, mid+1, stop)\n",
    "        else:\n",
    "            return bisection_recur(n, arr, start, mid-1)\n",
    "\n",
    "def create_list(max_val):\n",
    "    arr = []\n",
    "    for num in range(1, max_val+1):\n",
    "        arr.append(num)\n",
    "    return arr\n",
    "\n",
    "l = [1, 2, 3, 4, 5, 6, 7, 8, 9, 10]\n",
    "\n",
    "num_to_search = 5\n",
    "for num in range(10):\n",
    "    print(bisection_recur(num, l, 0, len(l)-1))"
   ]
  },
  {
   "cell_type": "code",
   "execution_count": 2,
   "metadata": {},
   "outputs": [
    {
     "name": "stdout",
     "output_type": "stream",
     "text": [
      "[][][][][][][][][][][][][][][('geralt@example.com', {'first_name': 'Geralt', 'last_name': 'of Rivia'})][][][][][][][][][][][][][][][][][][][][][][][][][][][][][][][][][][][][][][][][][][][][][][][][][][][][][][][][][][][][][][][][][][][][][][][][][][][][][][][][][][][][][][][][][][][][][][][][][][][][][][][][][][][][][][][][][][][][][][][][][][][][][][][][][][][][][][][][][][][][][][][][][][][][][][][][][][][][][][][][][][][][][][][][][][][][][][][][][][][][][][][][][][][][][][][][][][][][][][][][('caio@example.com', {'first_name': 'Caio', 'last_name': 'Formiga'})][][][][][][][][][][][][][][][('fernanda@example.com', {'first_name': 'Fernanda', 'last_name': 'Formiga'})][][][][][][][][][][][][][][][][][][][][][][][][][][]\n",
      "{'first_name': 'Geralt', 'last_name': 'of Rivia'}\n"
     ]
    }
   ],
   "source": [
    "#hash function\n",
    "#it takes in the value of the key and gives you an output\n",
    "#put the record with the key/value in  some data slot associated with an index\n",
    "#search complexity: O(1)\n",
    "\n",
    "#hash table\n",
    "\n",
    "#hash operations:\n",
    "#insert - set_val\n",
    "#update - set_val\n",
    "#find/retrieve - get_val\n",
    "#delete - delete one item, pop (return deleted value)\n",
    "\n",
    "\n",
    "class AlgoHashTable:\n",
    "\n",
    "    def __init__(self, size):\n",
    "        self.size = size\n",
    "        self.hash_table = self.create_buckets()\n",
    "\n",
    "    def create_buckets(self):\n",
    "        return [[] for _ in range(self.size)]\n",
    "\n",
    "    def set_val(self, key, value):\n",
    "        hashed_key = hash(key)%self.size\n",
    "        bucket = self.hash_table[hashed_key]\n",
    "        found_key = False\n",
    "        for index, record in enumerate(bucket):\n",
    "            record_key, record_value = record\n",
    "            if record_key == key:\n",
    "                found_key = True\n",
    "                break\n",
    "        if found_key:\n",
    "            bucket[index] = (key, value)\n",
    "        else:\n",
    "            bucket.append((key, value))\n",
    "\n",
    "    def get_val(self, key):\n",
    "        hashed_key = hash(key)%self.size\n",
    "        bucket = self.hash_table[hashed_key]\n",
    "        found_key = False\n",
    "        for index, record in enumerate(bucket):\n",
    "            record_key, record_value = record\n",
    "            if record_key == key:\n",
    "                found_key = True\n",
    "                break\n",
    "        if found_key:\n",
    "            return record_value\n",
    "        else:\n",
    "            return \"No record found with that email address\"\n",
    "\n",
    "    def __str__(self):\n",
    "        return \"\".join(str(item) for item in self.hash_table)\n",
    "\n",
    "hash_table = AlgoHashTable(256)\n",
    "hash_table.set_val('fernanda@example.com',{'first_name':'Fernanda','last_name':'Formiga'})\n",
    "hash_table.set_val('caio@example.com',{'first_name':'Caio','last_name':'Formiga'})\n",
    "hash_table.set_val('geralt@example.com',{'first_name':'Geralt','last_name':'of Rivia'})\n",
    "print(hash_table)\n",
    "print(hash_table.get_val('geralt@example.com'))"
   ]
  },
  {
   "cell_type": "markdown",
   "metadata": {},
   "source": [
    "# linear data structures"
   ]
  },
  {
   "cell_type": "code",
   "execution_count": 3,
   "metadata": {},
   "outputs": [],
   "source": [
    "#link list: list of nodes\n",
    "#node: data + pointer\n",
    "#no index in this kind of list\n",
    "#most operations are sequential\n",
    "#no pre-allocation of memory\n",
    "#elementary data structure\n",
    "\n",
    "\n",
    "#add operation - O(1) if keeping track of the node;\n",
    "#O(n) if not keeping track of tail (iterate through all nodes to find last one)\n",
    "#O(1) if adding to front (left)\n",
    "\n",
    "#remove operation - O(1) if removing from the head;\n",
    "#O(n) if removing from end of list"
   ]
  },
  {
   "cell_type": "code",
   "execution_count": 18,
   "metadata": {},
   "outputs": [
    {
     "name": "stdout",
     "output_type": "stream",
     "text": [
      "[1->2->3->4->5]\n"
     ]
    }
   ],
   "source": [
    "class Node:\n",
    "    \n",
    "    def __init__(self, data=None):\n",
    "        self.data = data\n",
    "        self.next = None\n",
    "        \n",
    "    def __str__(self):\n",
    "        return f\"{self.data}\"\n",
    "    \n",
    "    \n",
    "class LinkedList:\n",
    "    \n",
    "    def __init__(self):\n",
    "        self.head = None\n",
    "        self.tail = None\n",
    "        \n",
    "    \n",
    "    def append_val(self, x):\n",
    "        #adds x to the end of the list\n",
    "        if not isinstance(x, Node):\n",
    "            x = Node(x)\n",
    "        #to test if the inserted object is a node\n",
    "        if self.head == None:\n",
    "            self.head = x\n",
    "        else:\n",
    "            self.tail.next = x\n",
    "        self.tail = x\n",
    "        \n",
    "    def __str__(self):\n",
    "        to_print = \"\"\n",
    "        curr = self.head\n",
    "        while curr is not None:\n",
    "            to_print += str(curr.data) + \"->\"\n",
    "            curr = curr.next\n",
    "        if to_print:\n",
    "            return \"[\" + to_print[:-2] + \"]\"\n",
    "        return \"[]\"\n",
    "        \n",
    "    def reverse_list_recur(self, current, previous):\n",
    "        pass\n",
    "\n",
    "    \n",
    "node1 = Node(1)\n",
    "node2 = Node(2)\n",
    "node3 = Node(3)\n",
    "node4 = Node(4)\n",
    "node5 = Node(5)\n",
    "\n",
    "my_list = LinkedList()\n",
    "\n",
    "my_list.append_val(node1)\n",
    "my_list.append_val(node2)\n",
    "my_list.append_val(node3)\n",
    "my_list.append_val(node4)\n",
    "my_list.append_val(node5)\n",
    "\n",
    "print(my_list)"
   ]
  }
 ],
 "metadata": {
  "kernelspec": {
   "display_name": "Python 3",
   "language": "python",
   "name": "python3"
  },
  "language_info": {
   "codemirror_mode": {
    "name": "ipython",
    "version": 3
   },
   "file_extension": ".py",
   "mimetype": "text/x-python",
   "name": "python",
   "nbconvert_exporter": "python",
   "pygments_lexer": "ipython3",
   "version": "3.7.4"
  }
 },
 "nbformat": 4,
 "nbformat_minor": 2
}
