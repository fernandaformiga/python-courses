{
 "cells": [
  {
   "cell_type": "markdown",
   "metadata": {},
   "source": [
    "# strings"
   ]
  },
  {
   "cell_type": "markdown",
   "metadata": {},
   "source": [
    "adding strings"
   ]
  },
  {
   "cell_type": "code",
   "execution_count": 26,
   "metadata": {},
   "outputs": [
    {
     "name": "stdout",
     "output_type": "stream",
     "text": [
      "The total cost is 1500\n",
      "Hello Fernanda welcome to the Python course\n"
     ]
    }
   ],
   "source": [
    "message = \"The total cost is\"\n",
    "price = \"1500\"\n",
    "new_message = message + \" \" + price\n",
    "print(new_message)\n",
    "\n",
    "greeting = \"Hello\"\n",
    "user = \"Fernanda\"\n",
    "message = \"welcome to the Python course\"\n",
    "\n",
    "print(greeting, user, message)"
   ]
  },
  {
   "cell_type": "markdown",
   "metadata": {},
   "source": [
    "indexing and slicing"
   ]
  },
  {
   "cell_type": "code",
   "execution_count": 2,
   "metadata": {},
   "outputs": [
    {
     "name": "stdout",
     "output_type": "stream",
     "text": [
      "F\n",
      "Fernanda\n",
      "Ferna\n",
      "adnanreF\n"
     ]
    }
   ],
   "source": [
    "#refers to specific characters in the string\n",
    "\n",
    "name = \"Fernanda\"\n",
    "print(name[0])\n",
    "print(name[0:8])\n",
    "print(name[0:5])\n",
    "print(name[::-1])"
   ]
  },
  {
   "cell_type": "markdown",
   "metadata": {},
   "source": [
    "referencing strings"
   ]
  },
  {
   "cell_type": "code",
   "execution_count": 13,
   "metadata": {},
   "outputs": [
    {
     "name": "stdout",
     "output_type": "stream",
     "text": [
      "Fernanda\n",
      "Formiga\n",
      "Hello Fernanda Formiga! You just delved into python.\n"
     ]
    }
   ],
   "source": [
    "first_name = input()\n",
    "last_name = input()\n",
    "print (\"Hello {} {}! You just delved into python.\".format(first_name, last_name))"
   ]
  },
  {
   "cell_type": "code",
   "execution_count": 11,
   "metadata": {},
   "outputs": [
    {
     "name": "stdout",
     "output_type": "stream",
     "text": [
      "Fernanda\n",
      "Formiga\n",
      "Hello Fernanda Formiga! You just delved into python.\n"
     ]
    }
   ],
   "source": [
    "print(f\"Hello {input()} {input()}! You just delved into python.\")"
   ]
  },
  {
   "cell_type": "code",
   "execution_count": 9,
   "metadata": {},
   "outputs": [
    {
     "name": "stdout",
     "output_type": "stream",
     "text": [
      "Hello Fernanda Formiga da Silva! You just delved into python.\n"
     ]
    }
   ],
   "source": [
    "first_name = \"Fernanda\"\n",
    "last_name = \"Formiga da Silva\"\n",
    "print ((\"Hello %s %s! You just delved into python.\") % (first_name, last_name))"
   ]
  },
  {
   "cell_type": "markdown",
   "metadata": {},
   "source": [
    "methods, functions, statements"
   ]
  },
  {
   "cell_type": "code",
   "execution_count": 1,
   "metadata": {},
   "outputs": [
    {
     "name": "stdout",
     "output_type": "stream",
     "text": [
      "hello fernanda welcome to the Python course\n",
      "8\n",
      "<class 'int'>\n",
      "<class 'str'>\n",
      "2289120681456\n",
      "hello Fernanda welcome to the Python course\n",
      "hello FERNANDA welcome to the Python course\n",
      "hello fernanda welcome to the python course\n",
      "3\n",
      "['welcome', 'to', 'the', 'Python', 'course']\n",
      "['welcome', 'to', 'the', 'Python', 'course']\n",
      "Python Java Ruby\n"
     ]
    }
   ],
   "source": [
    "greeting = \"hello\"\n",
    "user = \"fernanda\"\n",
    "message = \"welcome to the Python course\"\n",
    "\n",
    "print(greeting, user, message)\n",
    "\n",
    "#length\n",
    "\n",
    "print(len(user))\n",
    "\n",
    "#type\n",
    "\n",
    "print(type(5))\n",
    "print(type(user))\n",
    "\n",
    "#id: memory location of an object\n",
    "\n",
    "print (id(user))\n",
    "\n",
    "#capitalize, upper, lower, script, find, split, join\n",
    "\n",
    "print(greeting, user.capitalize(), message)\n",
    "\n",
    "print(greeting, user.upper(), message)\n",
    "\n",
    "print(greeting, user, message.lower())\n",
    "\n",
    "print(user.find(\"n\"))\n",
    "\n",
    "print(message.split()) #returns a list with individual strings\n",
    "\n",
    "new_message = \"welcome-to-the-Python-course\"\n",
    "print(new_message.split('-')) #splits based on the dashes\n",
    "\n",
    "my_languages = ['Python', 'Java', 'Ruby']\n",
    "print(\" \".join(my_languages)) #joins with the element inside the commas\n"
   ]
  },
  {
   "cell_type": "markdown",
   "metadata": {},
   "source": [
    "# booleans and conditions"
   ]
  },
  {
   "cell_type": "markdown",
   "metadata": {},
   "source": [
    "greater than >\n",
    "\n",
    "less than <\n",
    "\n",
    "greater than or equal to >=\n",
    "\n",
    "less than or equal to <=\n",
    "\n",
    "equal to ==\n",
    "\n",
    "not equal to !=\n",
    "\n",
    "\n",
    "\n",
    "true and true: true\n",
    "\n",
    "true and false: false\n",
    "\n",
    "false and false: false\n",
    "\n",
    "true or false: true\n",
    "\n",
    "true or true: true\n",
    "\n",
    "false or false"
   ]
  },
  {
   "cell_type": "markdown",
   "metadata": {},
   "source": [
    "# branching and conditionals"
   ]
  },
  {
   "cell_type": "markdown",
   "metadata": {},
   "source": [
    "if, elif, else\n",
    "\n",
    "if condition:\n",
    "    execute some code\n",
    "    \n",
    "elif other_condition:\n",
    "    execute some other code\n",
    "    \n",
    "else:\n",
    "    execute some other work"
   ]
  },
  {
   "cell_type": "code",
   "execution_count": 4,
   "metadata": {},
   "outputs": [
    {
     "name": "stdout",
     "output_type": "stream",
     "text": [
      "Welcome to the CALCULATION program\n",
      "Choose 1 to multiply, 2 to divide-> 4\n",
      "Enter first number-> 3\n",
      "Enter second number-> 5\n",
      "You've made an invalid selection\n"
     ]
    }
   ],
   "source": [
    "print(\"Welcome to the CALCULATION program\")\n",
    "\n",
    "choice = input(\"Choose 1 to multiply, 2 to divide: \")\n",
    "num_1 = int(input(\"Enter first number: \"))\n",
    "num_2 = int(input(\"Enter second number: \"))\n",
    "if choice == \"1\":\n",
    "    print(f\"{num_1} multiplied by {num_2} is: {num_1*num_2}\")\n",
    "elif choice == \"2\":\n",
    "    print(f\"{num_1} divided by {num_2} is: {num_1/num_2}\")\n",
    "else:\n",
    "    print(\"You've made an invalid selection\")"
   ]
  },
  {
   "cell_type": "code",
   "execution_count": 5,
   "metadata": {},
   "outputs": [
    {
     "name": "stdout",
     "output_type": "stream",
     "text": [
      "Choose 1 to multiply, 2 to divide: 5\n",
      "You've made an invalid selection\n"
     ]
    }
   ],
   "source": [
    "#alternative\n",
    "\n",
    "choice = input(\"Choose 1 to multiply, 2 to divide: \")\n",
    "if choice == \"1\" or choice == \"2\":\n",
    "    num_1 = int(input(\"Enter first number: \"))\n",
    "    num_2 = int(input(\"Enter second number: \"))\n",
    "    if choice == \"1\":\n",
    "        print(f\"{num_1} multiplied by {num_2} is: {num_1*num_2}\")\n",
    "    elif choice == \"2\":\n",
    "        print(f\"{num_1} divided by {num_2} is: {num_1/num_2}\")\n",
    "else:\n",
    "    print(\"You've made an invalid selection\")\n"
   ]
  },
  {
   "cell_type": "code",
   "execution_count": 10,
   "metadata": {},
   "outputs": [
    {
     "name": "stdout",
     "output_type": "stream",
     "text": [
      "Welcome to your homepage\n",
      "Welcome to your homepage\n",
      "i is less than j and k\n",
      "enrolled in Python course\n"
     ]
    }
   ],
   "source": [
    "#branching and control flow\n",
    "\n",
    "made_payment = True\n",
    "a = \"Please pay monthly premium\"\n",
    "b = \"Welcome to your homepage\"\n",
    "\n",
    "#option 1\n",
    "\n",
    "if not made_payment:\n",
    "    print(a)\n",
    "else:\n",
    "    print(b)\n",
    "\n",
    "#option 2\n",
    "\n",
    "print(a) if not made_payment else print(b)\n",
    "    \n",
    "i = 5\n",
    "j = 10\n",
    "k = 30\n",
    "\n",
    "if i < j and i < k:\n",
    "    print(\"i is less than j and k\")\n",
    "elif i == j and i == k:\n",
    "    print(\"i is less than j and k\")\n",
    "else:\n",
    "    print(\"something else\")\n",
    "    \n",
    "#shorter form in one line only:\n",
    "    \n",
    "course = \"python\"\n",
    "a = \"enrolled in Python course\"\n",
    "b = \"enrolled in some other course\"\n",
    "\n",
    "print(a) if course == \"python\" else print (b)"
   ]
  },
  {
   "cell_type": "markdown",
   "metadata": {},
   "source": [
    "# lists, dictionaries, sets, tuples\n"
   ]
  },
  {
   "cell_type": "code",
   "execution_count": 44,
   "metadata": {},
   "outputs": [
    {
     "name": "stdout",
     "output_type": "stream",
     "text": [
      "[1, 2, True, 'Fernanda', 5.0]\n",
      "Fernanda\n",
      "<class 'list'>\n",
      "['architecture', 'artificial intelligence', 'arts', 'lord of the rings', 'science']\n",
      "['architecture', 'artificial intelligence', 'arts', 'lord of the rings', 'science']\n",
      "Sorted stings: ['architecture', 'artificial intelligence', 'arts', 'lord of the rings', 'science']\n",
      "['architecture', 'artificial intelligence', 'arts', 'lord of the rings', 'science']\n",
      "True\n",
      "True\n",
      "4\n",
      "5\n",
      "42\n",
      "64\n",
      "13\n",
      "['__add__', '__class__', '__contains__', '__delattr__', '__delitem__', '__dir__', '__doc__', '__eq__', '__format__', '__ge__', '__getattribute__', '__getitem__', '__gt__', '__hash__', '__iadd__', '__imul__', '__init__', '__init_subclass__', '__iter__', '__le__', '__len__', '__lt__', '__mul__', '__ne__', '__new__', '__reduce__', '__reduce_ex__', '__repr__', '__reversed__', '__rmul__', '__setattr__', '__setitem__', '__sizeof__', '__str__', '__subclasshook__', 'append', 'clear', 'copy', 'count', 'extend', 'index', 'insert', 'pop', 'remove', 'reverse', 'sort']\n",
      "['__add__', '__class__', '__contains__', '__delattr__', '__delitem__', '__dir__', '__doc__', '__eq__', '__format__', '__ge__', '__getattribute__', '__getitem__', '__gt__', '__hash__', '__iadd__', '__imul__', '__init__', '__init_subclass__', '__iter__', '__le__', '__len__', '__lt__', '__mul__', '__ne__', '__new__', '__reduce__', '__reduce_ex__', '__repr__', '__reversed__', '__rmul__', '__setattr__', '__setitem__', '__sizeof__', '__str__', '__subclasshook__', 'append', 'clear', 'copy', 'count', 'extend', 'index', 'insert', 'pop', 'remove', 'reverse', 'sort']\n",
      "['arts', 'architecture', 'science', 'artificial intelligence', 'lord of the rings', 'high fantasy']\n",
      "['arts', 'architecture', 'progressive metal', 'science', 'artificial intelligence', 'lord of the rings', 'high fantasy']\n",
      "['arts', 'architecture', 'progressive metal', 'science', 'artificial intelligence', 'lord of the rings', 'high fantasy', 'folk metal', 'power metal', 'norse mythology']\n",
      "['arts', 'architecture', 'progressive metal', 'science', 'lord of the rings', 'high fantasy', 'folk metal', 'power metal', 'norse mythology']\n",
      "power metal\n",
      "['arts', 'architecture', 'progressive metal', 'science', 'lord of the rings', 'high fantasy', 'folk metal']\n",
      "['math', 'architecture', 'progressive metal', 'science', 'lord of the rings', 'high fantasy', 'folk metal']\n",
      "sublist:\n",
      "['architecture', 'progressive metal', 'science', 'lord of the rings', 'high fantasy']\n",
      "['math', 'progressive metal', 'lord of the rings', 'folk metal']\n",
      "math\n",
      "architecture\n",
      "progressive metal\n",
      "science\n",
      "lord of the rings\n",
      "high fantasy\n",
      "folk metal\n"
     ]
    }
   ],
   "source": [
    "#lists\n",
    "\n",
    "random_list = [1, 2, True, \"Fernanda\", 5.0]\n",
    "#print list\n",
    "print(random_list)\n",
    "#print element from the list by its index\n",
    "print(random_list[3])\n",
    "print(type(random_list))\n",
    "\n",
    "#actions with lists\n",
    "#sort - sort(), sorted()\n",
    "#find - len(). min(), max(), in, indexing, slicing, count()\n",
    "#inser/remove - append(), insert(), extend(), remove(), pop()\n",
    "#sub-lists - slicing, in-place, copying\n",
    "#iteration - loops, while loops\n",
    "\n",
    "#sorting\n",
    "\n",
    "my_numbers = [13, 34, 64, 42, 39]\n",
    "my_strings = [\"arts\", \"architecture\", \"science\", \"artificial intelligence\", \"lord of the rings\"]\n",
    "print(sorted(my_strings))\n",
    "\n",
    "#alternative sorting\n",
    "\n",
    "sorted_list = sorted(my_strings) #function\n",
    "print(sorted_list)\n",
    "print(f\"Sorted stings: {sorted_list}\")\n",
    "\n",
    "#alternative sorting 2\n",
    "\n",
    "sorted_list.sort() #method\n",
    "print(sorted_list)\n",
    "\n",
    "#finding info\n",
    "\n",
    "print(\"architecture\" in my_strings) #Output: true\n",
    "print(34 in my_numbers) #Output: true\n",
    "print(my_strings.index(\"lord of the rings\"))\n",
    "\n",
    "#length\n",
    "\n",
    "print(len(my_numbers))\n",
    "\n",
    "\n",
    "#length with operations\n",
    "\n",
    "print(my_numbers[len(my_numbers)-2]) #Output: 42\n",
    "\n",
    "#maximum and minimum\n",
    "\n",
    "print(max(my_numbers))\n",
    "print(min(my_numbers))\n",
    "\n",
    "#list built-in methods available\n",
    "\n",
    "print(dir(my_strings))\n",
    "print(dir(my_numbers))\n",
    "\n",
    "#append adds some element to the end of the list\n",
    "my_strings.append(\"high fantasy\")\n",
    "print(my_strings)\n",
    "\n",
    "#insert adds element in the desired index\n",
    "#first provide index, then the object\n",
    "\n",
    "my_strings.insert(2, \"progressive metal\")\n",
    "print(my_strings)\n",
    "\n",
    "#extend\n",
    "new_strings_list = [\"folk metal\", \"power metal\", \"norse mythology\"]\n",
    "\n",
    "#append list in other list does not simply add the elements, but the list itself\n",
    "#my_strings.append(new_strings_list)\n",
    "my_strings.extend(new_strings_list)\n",
    "print(my_strings)\n",
    "\n",
    "#remove\n",
    "my_strings.remove(\"artificial intelligence\")\n",
    "print(my_strings)\n",
    "\n",
    "#pop removes the last item of the list\n",
    "my_strings.pop()\n",
    "print(my_strings.pop()) #shows removed item\n",
    "print(my_strings)\n",
    "\n",
    "#reassign item in list\n",
    "my_strings[0] = \"math\"\n",
    "print(my_strings)\n",
    "\n",
    "#slicing\n",
    "print(\"sublist:\")\n",
    "print(my_strings[1:6])\n",
    "print(my_strings[::2])\n",
    "\n",
    "#list all itens in list\n",
    "for item in my_strings:\n",
    "    print(item)"
   ]
  },
  {
   "cell_type": "code",
   "execution_count": null,
   "metadata": {},
   "outputs": [],
   "source": []
  },
  {
   "cell_type": "code",
   "execution_count": null,
   "metadata": {},
   "outputs": [],
   "source": []
  },
  {
   "cell_type": "code",
   "execution_count": null,
   "metadata": {},
   "outputs": [],
   "source": []
  },
  {
   "cell_type": "code",
   "execution_count": null,
   "metadata": {},
   "outputs": [],
   "source": []
  },
  {
   "cell_type": "code",
   "execution_count": null,
   "metadata": {},
   "outputs": [],
   "source": []
  },
  {
   "cell_type": "code",
   "execution_count": null,
   "metadata": {},
   "outputs": [],
   "source": []
  },
  {
   "cell_type": "code",
   "execution_count": null,
   "metadata": {},
   "outputs": [],
   "source": []
  },
  {
   "cell_type": "code",
   "execution_count": null,
   "metadata": {},
   "outputs": [],
   "source": []
  },
  {
   "cell_type": "code",
   "execution_count": 18,
   "metadata": {},
   "outputs": [],
   "source": [
    "#dictionaries\n",
    "\n",
    "random_dict = {'name':'Fernanda','course':'Python'}\n",
    "\n",
    "#elements separated by the comma are key value pairs (key+value)"
   ]
  },
  {
   "cell_type": "code",
   "execution_count": 14,
   "metadata": {},
   "outputs": [
    {
     "name": "stdout",
     "output_type": "stream",
     "text": [
      "{1, 5.0, 'Formiga'}\n",
      "<class 'set'>\n",
      "{1, 2, 6, 'ruby', 8, 9, 10, 'rails', 'javascript', 21, 'c', 1000, 'python', 'java'}\n"
     ]
    }
   ],
   "source": [
    "#sets\n",
    "#single elements separated by commas\n",
    "#elements do not repeat when printed\n",
    "\n",
    "random_set = {1, 5.0, \"Formiga\", True,1}\n",
    "print(random_set)\n",
    "print(type(random_set))\n",
    "\n",
    "#if the set is updated, the new elements are added in no particular order\n",
    "\n",
    "my_set = {1,6,2,'java','ruby',8,9,10,21,1000,'python',6}\n",
    "my_second_set = {6,2,'javascript','rails',8,9,10,21,1000,'c'}\n",
    "\n",
    "my_set.update(my_second_set)\n",
    "print(my_set)"
   ]
  },
  {
   "cell_type": "code",
   "execution_count": 12,
   "metadata": {},
   "outputs": [
    {
     "name": "stdout",
     "output_type": "stream",
     "text": [
      "(1, 2, True, 'Fernanda', 5.0)\n",
      "Fernanda\n"
     ]
    },
    {
     "ename": "TypeError",
     "evalue": "'tuple' object does not support item assignment",
     "output_type": "error",
     "traceback": [
      "\u001b[1;31m---------------------------------------------------------------------------\u001b[0m",
      "\u001b[1;31mTypeError\u001b[0m                                 Traceback (most recent call last)",
      "\u001b[1;32m<ipython-input-12-0edeeb78ae2a>\u001b[0m in \u001b[0;36m<module>\u001b[1;34m\u001b[0m\n\u001b[0;32m      8\u001b[0m \u001b[1;31m#print element from the tuple by its index\u001b[0m\u001b[1;33m\u001b[0m\u001b[1;33m\u001b[0m\u001b[1;33m\u001b[0m\u001b[0m\n\u001b[0;32m      9\u001b[0m \u001b[0mprint\u001b[0m\u001b[1;33m(\u001b[0m\u001b[0mrandom_tuple\u001b[0m\u001b[1;33m[\u001b[0m\u001b[1;36m3\u001b[0m\u001b[1;33m]\u001b[0m\u001b[1;33m)\u001b[0m\u001b[1;33m\u001b[0m\u001b[1;33m\u001b[0m\u001b[0m\n\u001b[1;32m---> 10\u001b[1;33m \u001b[0mrandom_tuple\u001b[0m\u001b[1;33m[\u001b[0m\u001b[1;36m3\u001b[0m\u001b[1;33m]\u001b[0m\u001b[1;33m=\u001b[0m\u001b[1;36m42\u001b[0m\u001b[1;33m\u001b[0m\u001b[1;33m\u001b[0m\u001b[0m\n\u001b[0m\u001b[0;32m     11\u001b[0m \u001b[0mprint\u001b[0m\u001b[1;33m(\u001b[0m\u001b[0mrandom_tuple\u001b[0m\u001b[1;33m[\u001b[0m\u001b[1;36m3\u001b[0m\u001b[1;33m]\u001b[0m\u001b[1;33m)\u001b[0m\u001b[1;33m\u001b[0m\u001b[1;33m\u001b[0m\u001b[0m\n",
      "\u001b[1;31mTypeError\u001b[0m: 'tuple' object does not support item assignment"
     ]
    }
   ],
   "source": [
    "#tuples\n",
    "\n",
    "#behave like lists, but immutable\n",
    "\n",
    "random_tuple = (1, 2, True, \"Fernanda\", 5.0)\n",
    "#print list\n",
    "print(random_tuple)\n",
    "#print element from the tuple by its index\n",
    "print(random_tuple[3])\n",
    "random_tuple[3]=42\n",
    "print(random_tuple[3])\n",
    "\n",
    "#'tuple' object does not support item assignment\n"
   ]
  },
  {
   "cell_type": "code",
   "execution_count": 13,
   "metadata": {},
   "outputs": [
    {
     "name": "stdout",
     "output_type": "stream",
     "text": [
      "{1, 2, 6, 'ruby', 8, 9, 10, 'rails', 'javascript', 21, 'c', 1000, 'python', 'java'}\n"
     ]
    }
   ],
   "source": [
    "my_set = {1,6,2,'java','ruby',8,9,10,21,1000,'python',6}\n",
    "my_second_set = {6,2,'javascript','rails',8,9,10,21,1000,'c'}\n",
    "\n",
    "my_set.update(my_second_set)\n",
    "print(my_set)"
   ]
  },
  {
   "cell_type": "code",
   "execution_count": null,
   "metadata": {},
   "outputs": [],
   "source": []
  }
 ],
 "metadata": {
  "kernelspec": {
   "display_name": "Python 3",
   "language": "python",
   "name": "python3"
  },
  "language_info": {
   "codemirror_mode": {
    "name": "ipython",
    "version": 3
   },
   "file_extension": ".py",
   "mimetype": "text/x-python",
   "name": "python",
   "nbconvert_exporter": "python",
   "pygments_lexer": "ipython3",
   "version": "3.7.4"
  }
 },
 "nbformat": 4,
 "nbformat_minor": 2
}
