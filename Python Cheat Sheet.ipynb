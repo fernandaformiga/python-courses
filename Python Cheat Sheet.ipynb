{
 "cells": [
  {
   "cell_type": "markdown",
   "metadata": {},
   "source": [
    "# strings"
   ]
  },
  {
   "cell_type": "markdown",
   "metadata": {},
   "source": [
    "adding strings"
   ]
  },
  {
   "cell_type": "code",
   "execution_count": 26,
   "metadata": {},
   "outputs": [
    {
     "name": "stdout",
     "output_type": "stream",
     "text": [
      "The total cost is 1500\n",
      "Hello Fernanda welcome to the Python course\n"
     ]
    }
   ],
   "source": [
    "message = \"The total cost is\"\n",
    "price = \"1500\"\n",
    "new_message = message + \" \" + price\n",
    "print(new_message)\n",
    "print(\"\\n\")\n",
    "\n",
    "greeting = \"Hello\"\n",
    "user = \"Fernanda\"\n",
    "message = \"welcome to the Python course\"\n",
    "\n",
    "print(greeting, user, message)"
   ]
  },
  {
   "cell_type": "markdown",
   "metadata": {},
   "source": [
    "indexing and slicing"
   ]
  },
  {
   "cell_type": "code",
   "execution_count": 2,
   "metadata": {},
   "outputs": [
    {
     "name": "stdout",
     "output_type": "stream",
     "text": [
      "F\n",
      "Fernanda\n",
      "Ferna\n",
      "adnanreF\n"
     ]
    }
   ],
   "source": [
    "#refers to specific characters in the string\n",
    "\n",
    "name = \"Fernanda\"\n",
    "print(name[0])\n",
    "print(\"\\n\")\n",
    "print(name[0:8])\n",
    "print(\"\\n\")\n",
    "print(name[0:5])\n",
    "print(\"\\n\")\n",
    "print(name[::-1])"
   ]
  },
  {
   "cell_type": "markdown",
   "metadata": {},
   "source": [
    "referencing strings"
   ]
  },
  {
   "cell_type": "code",
   "execution_count": 48,
   "metadata": {},
   "outputs": [
    {
     "name": "stdout",
     "output_type": "stream",
     "text": [
      "Fernanda\n",
      "Formiga\n",
      "\n",
      "\n",
      "Hello Fernanda Formiga! You just delved into python.\n"
     ]
    }
   ],
   "source": [
    "first_name = input()\n",
    "last_name = input()\n",
    "print(\"\\n\")\n",
    "print (\"Hello {} {}! You just delved into python.\".format(first_name, last_name))"
   ]
  },
  {
   "cell_type": "code",
   "execution_count": 11,
   "metadata": {},
   "outputs": [
    {
     "name": "stdout",
     "output_type": "stream",
     "text": [
      "Fernanda\n",
      "Formiga\n",
      "Hello Fernanda Formiga! You just delved into python.\n"
     ]
    }
   ],
   "source": [
    "print(f\"Hello {input()} {input()}! You just delved into python.\")"
   ]
  },
  {
   "cell_type": "code",
   "execution_count": 9,
   "metadata": {},
   "outputs": [
    {
     "name": "stdout",
     "output_type": "stream",
     "text": [
      "Hello Fernanda Formiga da Silva! You just delved into python.\n"
     ]
    }
   ],
   "source": [
    "first_name = \"Fernanda\"\n",
    "last_name = \"Formiga da Silva\"\n",
    "print ((\"Hello %s %s! You just delved into python.\") % (first_name, last_name))"
   ]
  },
  {
   "cell_type": "markdown",
   "metadata": {},
   "source": [
    "methods, functions, statements"
   ]
  },
  {
   "cell_type": "code",
   "execution_count": 1,
   "metadata": {},
   "outputs": [
    {
     "name": "stdout",
     "output_type": "stream",
     "text": [
      "hello fernanda welcome to the Python course\n",
      "8\n",
      "<class 'int'>\n",
      "<class 'str'>\n",
      "2289120681456\n",
      "hello Fernanda welcome to the Python course\n",
      "hello FERNANDA welcome to the Python course\n",
      "hello fernanda welcome to the python course\n",
      "3\n",
      "['welcome', 'to', 'the', 'Python', 'course']\n",
      "['welcome', 'to', 'the', 'Python', 'course']\n",
      "Python Java Ruby\n"
     ]
    }
   ],
   "source": [
    "greeting = \"hello\"\n",
    "user = \"fernanda\"\n",
    "message = \"welcome to the Python course\"\n",
    "\n",
    "print(greeting, user, message)\n",
    "print(\"\\n\")\n",
    "\n",
    "#length\n",
    "\n",
    "print(len(user))\n",
    "print(\"\\n\")\n",
    "\n",
    "#type\n",
    "\n",
    "print(type(5))\n",
    "print(type(user))\n",
    "print(\"\\n\")\n",
    "\n",
    "#id: memory location of an object\n",
    "\n",
    "print (id(user))\n",
    "print(\"\\n\")\n",
    "\n",
    "#capitalize, upper, lower, script, find, split, join\n",
    "\n",
    "print(greeting, user.capitalize(), message)\n",
    "print(\"\\n\")\n",
    "\n",
    "print(greeting, user.upper(), message)\n",
    "print(\"\\n\")\n",
    "\n",
    "print(greeting, user, message.lower())\n",
    "print(\"\\n\")\n",
    "\n",
    "print(user.find(\"n\"))\n",
    "print(\"\\n\")\n",
    "\n",
    "print(message.split()) #returns a list with individual strings\n",
    "print(\"\\n\")\n",
    "\n",
    "new_message = \"welcome-to-the-Python-course\"\n",
    "print(new_message.split('-')) #splits based on the dashes\n",
    "print(\"\\n\")\n",
    "\n",
    "my_languages = ['Python', 'Java', 'Ruby']\n",
    "print(\" \".join(my_languages)) #joins with the element inside the commas\n"
   ]
  },
  {
   "cell_type": "markdown",
   "metadata": {},
   "source": [
    "# booleans and conditions"
   ]
  },
  {
   "cell_type": "markdown",
   "metadata": {},
   "source": [
    "greater than >\n",
    "\n",
    "less than <\n",
    "\n",
    "greater than or equal to >=\n",
    "\n",
    "less than or equal to <=\n",
    "\n",
    "equal to ==\n",
    "\n",
    "not equal to !=\n",
    "\n",
    "\n",
    "\n",
    "true and true: true\n",
    "\n",
    "true and false: false\n",
    "\n",
    "false and false: false\n",
    "\n",
    "true or false: true\n",
    "\n",
    "true or true: true\n",
    "\n",
    "false or false"
   ]
  },
  {
   "cell_type": "markdown",
   "metadata": {},
   "source": [
    "# branching and conditionals"
   ]
  },
  {
   "cell_type": "markdown",
   "metadata": {},
   "source": [
    "if, elif, else\n",
    "\n",
    "if condition:\n",
    "    execute some code\n",
    "    \n",
    "elif other_condition:\n",
    "    execute some other code\n",
    "    \n",
    "else:\n",
    "    execute some other work"
   ]
  },
  {
   "cell_type": "code",
   "execution_count": 4,
   "metadata": {},
   "outputs": [
    {
     "name": "stdout",
     "output_type": "stream",
     "text": [
      "Welcome to the CALCULATION program\n",
      "Choose 1 to multiply, 2 to divide-> 4\n",
      "Enter first number-> 3\n",
      "Enter second number-> 5\n",
      "You've made an invalid selection\n"
     ]
    }
   ],
   "source": [
    "print(\"Welcome to the CALCULATION program\")\n",
    "\n",
    "choice = input(\"Choose 1 to multiply, 2 to divide: \")\n",
    "num_1 = int(input(\"Enter first number: \"))\n",
    "num_2 = int(input(\"Enter second number: \"))\n",
    "print(\"\\n\")\n",
    "if choice == \"1\":\n",
    "    print(f\"{num_1} multiplied by {num_2} is: {num_1*num_2}\")\n",
    "elif choice == \"2\":\n",
    "    print(f\"{num_1} divided by {num_2} is: {num_1/num_2}\")\n",
    "else:\n",
    "    print(\"You've made an invalid selection\")"
   ]
  },
  {
   "cell_type": "code",
   "execution_count": 49,
   "metadata": {},
   "outputs": [
    {
     "name": "stdout",
     "output_type": "stream",
     "text": [
      "Choose 1 to multiply, 2 to divide: 1\n",
      "Enter first number: 3\n",
      "Enter second number: 5\n",
      "\n",
      "\n",
      "3 multiplied by 5 is: 15\n"
     ]
    }
   ],
   "source": [
    "#alternative\n",
    "\n",
    "choice = input(\"Choose 1 to multiply, 2 to divide: \")\n",
    "if choice == \"1\" or choice == \"2\":\n",
    "    num_1 = int(input(\"Enter first number: \"))\n",
    "    num_2 = int(input(\"Enter second number: \"))\n",
    "    print(\"\\n\")\n",
    "    if choice == \"1\":\n",
    "        print(f\"{num_1} multiplied by {num_2} is: {num_1*num_2}\")\n",
    "    elif choice == \"2\":\n",
    "        print(f\"{num_1} divided by {num_2} is: {num_1/num_2}\")\n",
    "else:\n",
    "    print(\"You've made an invalid selection\")\n"
   ]
  },
  {
   "cell_type": "code",
   "execution_count": 10,
   "metadata": {},
   "outputs": [
    {
     "name": "stdout",
     "output_type": "stream",
     "text": [
      "Welcome to your homepage\n",
      "Welcome to your homepage\n",
      "i is less than j and k\n",
      "enrolled in Python course\n"
     ]
    }
   ],
   "source": [
    "#branching and control flow\n",
    "\n",
    "made_payment = True\n",
    "a = \"Please pay monthly premium\"\n",
    "b = \"Welcome to your homepage\"\n",
    "\n",
    "#option 1\n",
    "\n",
    "if not made_payment:\n",
    "    print(a)\n",
    "else:\n",
    "    print(b)\n",
    "print(\"\\n\")\n",
    "\n",
    "#option 2\n",
    "\n",
    "print(a) if not made_payment else print(b)\n",
    "print(\"\\n\")\n",
    "\n",
    "i = 5\n",
    "j = 10\n",
    "k = 30\n",
    "\n",
    "if i < j and i < k:\n",
    "    print(\"i is less than j and k\")\n",
    "elif i == j and i == k:\n",
    "    print(\"i is less than j and k\")\n",
    "else:\n",
    "    print(\"something else\")\n",
    "    \n",
    "#shorter form in one line only:\n",
    "    \n",
    "course = \"python\"\n",
    "a = \"enrolled in Python course\"\n",
    "b = \"enrolled in some other course\"\n",
    "\n",
    "print(a) if course == \"python\" else print (b)"
   ]
  },
  {
   "cell_type": "markdown",
   "metadata": {},
   "source": [
    "# lists, dictionaries, sets, tuples\n"
   ]
  },
  {
   "cell_type": "code",
   "execution_count": 50,
   "metadata": {},
   "outputs": [
    {
     "name": "stdout",
     "output_type": "stream",
     "text": [
      "[1, 2, True, 'Fernanda', 5.0]\n",
      "\n",
      "\n",
      "Fernanda\n",
      "<class 'list'>\n",
      "\n",
      "\n",
      "['architecture', 'artificial intelligence', 'arts', 'lord of the rings', 'science']\n",
      "\n",
      "\n",
      "['architecture', 'artificial intelligence', 'arts', 'lord of the rings', 'science']\n",
      "Sorted stings: ['architecture', 'artificial intelligence', 'arts', 'lord of the rings', 'science']\n",
      "\n",
      "\n",
      "['architecture', 'artificial intelligence', 'arts', 'lord of the rings', 'science']\n",
      "\n",
      "\n",
      "True\n",
      "True\n",
      "4\n",
      "\n",
      "\n",
      "5\n",
      "\n",
      "\n",
      "42\n",
      "\n",
      "\n",
      "64\n",
      "13\n",
      "\n",
      "\n",
      "['__add__', '__class__', '__contains__', '__delattr__', '__delitem__', '__dir__', '__doc__', '__eq__', '__format__', '__ge__', '__getattribute__', '__getitem__', '__gt__', '__hash__', '__iadd__', '__imul__', '__init__', '__init_subclass__', '__iter__', '__le__', '__len__', '__lt__', '__mul__', '__ne__', '__new__', '__reduce__', '__reduce_ex__', '__repr__', '__reversed__', '__rmul__', '__setattr__', '__setitem__', '__sizeof__', '__str__', '__subclasshook__', 'append', 'clear', 'copy', 'count', 'extend', 'index', 'insert', 'pop', 'remove', 'reverse', 'sort']\n",
      "['__add__', '__class__', '__contains__', '__delattr__', '__delitem__', '__dir__', '__doc__', '__eq__', '__format__', '__ge__', '__getattribute__', '__getitem__', '__gt__', '__hash__', '__iadd__', '__imul__', '__init__', '__init_subclass__', '__iter__', '__le__', '__len__', '__lt__', '__mul__', '__ne__', '__new__', '__reduce__', '__reduce_ex__', '__repr__', '__reversed__', '__rmul__', '__setattr__', '__setitem__', '__sizeof__', '__str__', '__subclasshook__', 'append', 'clear', 'copy', 'count', 'extend', 'index', 'insert', 'pop', 'remove', 'reverse', 'sort']\n",
      "\n",
      "\n",
      "['arts', 'architecture', 'science', 'artificial intelligence', 'lord of the rings', 'high fantasy']\n",
      "\n",
      "\n",
      "['arts', 'architecture', 'progressive metal', 'science', 'artificial intelligence', 'lord of the rings', 'high fantasy']\n",
      "\n",
      "\n",
      "['arts', 'architecture', 'progressive metal', 'science', 'artificial intelligence', 'lord of the rings', 'high fantasy', 'folk metal', 'power metal', 'norse mythology']\n",
      "\n",
      "\n",
      "['arts', 'architecture', 'progressive metal', 'science', 'lord of the rings', 'high fantasy', 'folk metal', 'power metal', 'norse mythology']\n",
      "\n",
      "\n",
      "power metal\n",
      "['arts', 'architecture', 'progressive metal', 'science', 'lord of the rings', 'high fantasy', 'folk metal']\n",
      "\n",
      "\n",
      "['math', 'architecture', 'progressive metal', 'science', 'lord of the rings', 'high fantasy', 'folk metal']\n",
      "\n",
      "\n",
      "sublist:\n",
      "['architecture', 'progressive metal', 'science', 'lord of the rings', 'high fantasy']\n",
      "['math', 'progressive metal', 'lord of the rings', 'folk metal']\n",
      "\n",
      "\n",
      "math\n",
      "architecture\n",
      "progressive metal\n",
      "science\n",
      "lord of the rings\n",
      "high fantasy\n",
      "folk metal\n"
     ]
    }
   ],
   "source": [
    "#lists\n",
    "\n",
    "random_list = [1, 2, True, \"Fernanda\", 5.0]\n",
    "#print list\n",
    "print(random_list)\n",
    "print(\"\\n\")\n",
    "\n",
    "#print element from the list by its index\n",
    "print(random_list[3])\n",
    "print(type(random_list))\n",
    "print(\"\\n\")\n",
    "\n",
    "#actions with lists\n",
    "#sort - sort(), sorted()\n",
    "#find - len(). min(), max(), in, indexing, slicing, count()\n",
    "#inser/remove - append(), insert(), extend(), remove(), pop()\n",
    "#sub-lists - slicing, in-place, copying\n",
    "#iteration - loops, while loops\n",
    "\n",
    "#sorting\n",
    "\n",
    "my_numbers = [13, 34, 64, 42, 39]\n",
    "my_strings = [\"arts\", \"architecture\", \"science\", \"artificial intelligence\", \"lord of the rings\"]\n",
    "print(sorted(my_strings))\n",
    "print(\"\\n\")\n",
    "\n",
    "#alternative sorting\n",
    "\n",
    "sorted_list = sorted(my_strings) #function\n",
    "print(sorted_list)\n",
    "print(f\"Sorted stings: {sorted_list}\")\n",
    "print(\"\\n\")\n",
    "\n",
    "#alternative sorting 2\n",
    "\n",
    "sorted_list.sort() #method\n",
    "print(sorted_list)\n",
    "print(\"\\n\")\n",
    "\n",
    "#finding info\n",
    "\n",
    "print(\"architecture\" in my_strings) #Output: true\n",
    "print(34 in my_numbers) #Output: true\n",
    "print(my_strings.index(\"lord of the rings\"))\n",
    "print(\"\\n\")\n",
    "\n",
    "#length\n",
    "\n",
    "print(len(my_numbers))\n",
    "print(\"\\n\")\n",
    "\n",
    "#length with operations\n",
    "\n",
    "print(my_numbers[len(my_numbers)-2]) #Output: 42\n",
    "print(\"\\n\")\n",
    "\n",
    "#maximum and minimum\n",
    "\n",
    "print(max(my_numbers))\n",
    "print(min(my_numbers))\n",
    "print(\"\\n\")\n",
    "\n",
    "#list built-in methods available\n",
    "\n",
    "print(dir(my_strings))\n",
    "print(dir(my_numbers))\n",
    "print(\"\\n\")\n",
    "\n",
    "#append adds some element to the end of the list\n",
    "my_strings.append(\"high fantasy\")\n",
    "print(my_strings)\n",
    "print(\"\\n\")\n",
    "\n",
    "#insert adds element in the desired index\n",
    "#first provide index, then the object\n",
    "\n",
    "my_strings.insert(2, \"progressive metal\")\n",
    "print(my_strings)\n",
    "print(\"\\n\")\n",
    "\n",
    "#extend\n",
    "new_strings_list = [\"folk metal\", \"power metal\", \"norse mythology\"]\n",
    "\n",
    "#append list in other list does not simply add the elements, but the list itself\n",
    "#my_strings.append(new_strings_list)\n",
    "my_strings.extend(new_strings_list)\n",
    "print(my_strings)\n",
    "print(\"\\n\")\n",
    "\n",
    "#remove\n",
    "my_strings.remove(\"artificial intelligence\")\n",
    "print(my_strings)\n",
    "print(\"\\n\")\n",
    "\n",
    "#pop removes the last item of the list\n",
    "my_strings.pop()\n",
    "print(my_strings.pop()) #shows removed item\n",
    "print(my_strings)\n",
    "print(\"\\n\")\n",
    "\n",
    "#reassign item in list\n",
    "my_strings[0] = \"math\"\n",
    "print(my_strings)\n",
    "print(\"\\n\")\n",
    "\n",
    "#slicing\n",
    "print(\"sublist:\")\n",
    "print(my_strings[1:6])\n",
    "print(my_strings[::2])\n",
    "print(\"\\n\")\n",
    "\n",
    "#list all itens in list\n",
    "for item in my_strings:\n",
    "    print(item)"
   ]
  },
  {
   "cell_type": "code",
   "execution_count": 1,
   "metadata": {},
   "outputs": [],
   "source": [
    "#dictionaries\n",
    "\n",
    "random_dict = {'name':'Fernanda','course':'Python'}\n",
    "\n",
    "#elements separated by the comma are key value pairs (key+value)"
   ]
  },
  {
   "cell_type": "code",
   "execution_count": 51,
   "metadata": {},
   "outputs": [
    {
     "name": "stdout",
     "output_type": "stream",
     "text": [
      "{'name': 'Fernanda', 'course': 'python'}\n",
      "{'taypa': 'peruvian food', 'new koto': 'japanese food', 'ricco': 'hamburger'}\n",
      "{'a': {'ant': 'insect', 'architect': 'job'}, 'b': {'banana': 'fruit', 'bottle': 'object'}}\n",
      "\n",
      "\n",
      "{'ant': 'insect', 'architect': 'job'}\n",
      "job\n",
      "Fernanda\n",
      "\n",
      "\n",
      "{'name': 'Fernanda', 'course': 'architecture', 'fav_food': 'sushi', 'job': 'student'}\n",
      "\n",
      "\n",
      "{'name': 'Fernanda', 'course': 'software engineering', 'fav_food': 'sushi', 'job': 'student'}\n",
      "\n",
      "\n",
      "dict_keys(['name', 'course', 'fav_food', 'job'])\n",
      "dict_values(['Fernanda', 'software engineering', 'sushi', 'student'])\n",
      "dict_items([('name', 'Fernanda'), ('course', 'software engineering'), ('fav_food', 'sushi'), ('job', 'student')])\n",
      "\n",
      "\n",
      "name Fernanda\n",
      "course software engineering\n",
      "fav_food sushi\n",
      "job student\n"
     ]
    }
   ],
   "source": [
    "#valid dictionary structures\n",
    "\n",
    "my_dict = {'name': 'Fernanda', 'course':'architecture', 'fav_food': 'sushi'}\n",
    "food_guide = {'taypa': 'peruvian food',\n",
    "             'new koto': 'japanese food',\n",
    "             'ricco': 'hamburger'}\n",
    "word_dict = {'a':\n",
    "                 {\n",
    "                     'ant': 'insect',\n",
    "                     'architect': 'job'\n",
    "                 },\n",
    "             'b':\n",
    "                 {\n",
    "                     'banana': 'fruit',\n",
    "                     'bottle': 'object'\n",
    "                 }\n",
    "             }\n",
    "\n",
    "print(sample_dict)\n",
    "print(food_guide)\n",
    "print(word_dict)\n",
    "print(\"\\n\")\n",
    "\n",
    "#return key values in different ways\n",
    "print(word_dict['a'])\n",
    "print(word_dict['a']['architect'])\n",
    "print(my_dict.get('name'))\n",
    "print(\"\\n\")\n",
    "\n",
    "#add something to dictionary\n",
    "\n",
    "my_dict['job'] = 'student'\n",
    "print(my_dict)\n",
    "print(\"\\n\")\n",
    "\n",
    "#change some value\n",
    "\n",
    "my_dict['course'] = 'software engineering'\n",
    "print(my_dict)\n",
    "print(\"\\n\")\n",
    "\n",
    "#print only keys or values\n",
    "\n",
    "print(my_dict.keys())\n",
    "print(my_dict.values())\n",
    "print(my_dict.items())\n",
    "print(\"\\n\")\n",
    "\n",
    "for k,v in my_dict.items():\n",
    "    print(k,v)"
   ]
  },
  {
   "cell_type": "code",
   "execution_count": 25,
   "metadata": {},
   "outputs": [
    {
     "name": "stdout",
     "output_type": "stream",
     "text": [
      "(1, 2, True, 'Fernanda', 5.0)\n",
      "Fernanda\n"
     ]
    },
    {
     "ename": "TypeError",
     "evalue": "'tuple' object does not support item assignment",
     "output_type": "error",
     "traceback": [
      "\u001b[1;31m---------------------------------------------------------------------------\u001b[0m",
      "\u001b[1;31mTypeError\u001b[0m                                 Traceback (most recent call last)",
      "\u001b[1;32m<ipython-input-25-5ef7b4aae82c>\u001b[0m in \u001b[0;36m<module>\u001b[1;34m\u001b[0m\n\u001b[0;32m      8\u001b[0m \u001b[1;31m#print element from the tuple by its index\u001b[0m\u001b[1;33m\u001b[0m\u001b[1;33m\u001b[0m\u001b[1;33m\u001b[0m\u001b[0m\n\u001b[0;32m      9\u001b[0m \u001b[0mprint\u001b[0m\u001b[1;33m(\u001b[0m\u001b[0mrandom_tuple\u001b[0m\u001b[1;33m[\u001b[0m\u001b[1;36m3\u001b[0m\u001b[1;33m]\u001b[0m\u001b[1;33m)\u001b[0m\u001b[1;33m\u001b[0m\u001b[1;33m\u001b[0m\u001b[0m\n\u001b[1;32m---> 10\u001b[1;33m \u001b[0mrandom_tuple\u001b[0m\u001b[1;33m[\u001b[0m\u001b[1;36m3\u001b[0m\u001b[1;33m]\u001b[0m\u001b[1;33m=\u001b[0m\u001b[1;36m42\u001b[0m\u001b[1;33m\u001b[0m\u001b[1;33m\u001b[0m\u001b[0m\n\u001b[0m\u001b[0;32m     11\u001b[0m \u001b[0mprint\u001b[0m\u001b[1;33m(\u001b[0m\u001b[0mrandom_tuple\u001b[0m\u001b[1;33m[\u001b[0m\u001b[1;36m3\u001b[0m\u001b[1;33m]\u001b[0m\u001b[1;33m)\u001b[0m\u001b[1;33m\u001b[0m\u001b[1;33m\u001b[0m\u001b[0m\n\u001b[0;32m     12\u001b[0m \u001b[1;33m\u001b[0m\u001b[0m\n",
      "\u001b[1;31mTypeError\u001b[0m: 'tuple' object does not support item assignment"
     ]
    }
   ],
   "source": [
    "#tuples\n",
    "\n",
    "#behave like lists, but immutable\n",
    "\n",
    "random_tuple = (1, 2, True, \"Fernanda\", 5.0)\n",
    "\n",
    "#print list\n",
    "print(random_tuple)\n",
    "print(\"\\n\")\n",
    "\n",
    "#print element from the tuple by its index\n",
    "print(random_tuple[3])\n",
    "random_tuple[3]=42\n",
    "print(random_tuple[3])\n",
    "print(\"\\n\")\n",
    "\n",
    "#'tuple' object does not support item assignment"
   ]
  },
  {
   "cell_type": "code",
   "execution_count": 52,
   "metadata": {},
   "outputs": [
    {
     "name": "stdout",
     "output_type": "stream",
     "text": [
      "7\n",
      "23\n",
      "(23, 'hermann hesse', 7, 13, 'blind guardian', 'harry potter')\n",
      "\n",
      "\n",
      "['__add__', '__class__', '__contains__', '__delattr__', '__dir__', '__doc__', '__eq__', '__format__', '__ge__', '__getattribute__', '__getitem__', '__getnewargs__', '__gt__', '__hash__', '__init__', '__init_subclass__', '__iter__', '__le__', '__len__', '__lt__', '__mul__', '__ne__', '__new__', '__reduce__', '__reduce_ex__', '__repr__', '__rmul__', '__setattr__', '__sizeof__', '__str__', '__subclasshook__', 'count', 'index']\n",
      "\n",
      "\n",
      "6\n",
      "\n",
      "\n",
      "1\n",
      "\n",
      "\n",
      "True\n",
      "\n",
      "\n",
      "harry potter\n",
      "blind guardian\n",
      "13\n",
      "7\n",
      "hermann hesse\n",
      "23\n",
      "\n",
      "\n",
      "value_c\n"
     ]
    }
   ],
   "source": [
    "random_tuple = ('harry potter', 'blind guardian', 13, 7, 'hermann hesse', 23)\n",
    "print(random_tuple[3])\n",
    "print(random_tuple[-1])\n",
    "print(random_tuple[::-1]) #shows reversed tuple\n",
    "print(\"\\n\")\n",
    "\n",
    "print(dir(random_tuple)) #shows available actions\n",
    "print(\"\\n\")\n",
    "\n",
    "#how many elements?\n",
    "print(len(random_tuple))\n",
    "print(\"\\n\")\n",
    "\n",
    "#index\n",
    "print(random_tuple.index('blind guardian'))\n",
    "print(\"\\n\")\n",
    "\n",
    "#true or false?\n",
    "print('hermann hesse' in random_tuple) #it is there, so it returns True\n",
    "print(\"\\n\")\n",
    "\n",
    "#list all elements, like in the list\n",
    "for item in random_tuple:\n",
    "    print(item)\n",
    "print(\"\\n\")\n",
    "\n",
    "#assign values\n",
    "other_tuple = (\"value_a\", \"value_b\", \"value_c\")\n",
    "first, second, third = other_tuple\n",
    "print(third) #returns value_c"
   ]
  },
  {
   "cell_type": "code",
   "execution_count": 7,
   "metadata": {},
   "outputs": [
    {
     "name": "stdout",
     "output_type": "stream",
     "text": [
      "{1, 5.0, 'Formiga'}\n",
      "<class 'set'>\n",
      "{1, 2, 6, 8, 9, 10, 'rails', 'ruby', 21, 'java', 'javascript', 1000, 'c', 'python'}\n"
     ]
    }
   ],
   "source": [
    "#sets\n",
    "#single elements separated by commas\n",
    "#elements do not repeat when printed\n",
    "\n",
    "random_set = {1, 5.0, \"Formiga\", True,1}\n",
    "print(random_set)\n",
    "print(type(random_set))\n",
    "print(\"\\n\")\n",
    "\n",
    "#if the set is updated, the new elements are added in no particular order\n",
    "\n",
    "my_set = {1,6,2,'java','ruby',8,9,10,21,1000,'python',6}\n",
    "my_second_set = {6,2,'javascript','rails',8,9,10,21,1000,'c'}\n",
    "\n",
    "my_set.update(my_second_set)\n",
    "print(my_set)"
   ]
  },
  {
   "cell_type": "code",
   "execution_count": 46,
   "metadata": {},
   "outputs": [
    {
     "name": "stdout",
     "output_type": "stream",
     "text": [
      "{1, 2, 6, 8, 9, 10, 'rails', 'ruby', 21, 'java', 'javascript', 1000, 'c', 'python'}\n",
      "\n",
      "\n",
      "{1, 2, 6, 8, 9, 10, 1000, 'ruby', 21, 'python', 'java'}\n",
      "\n",
      "\n",
      "True\n",
      "\n",
      "\n",
      "{'ruby', 'python'}\n",
      "\n",
      "\n",
      "{1, 2, 'javascript', 6, 'php', 8, 9, 10, 1000, 'c', 'ruby', 21, 'python', 'java'}\n",
      "\n",
      "\n",
      "{1, 2, 6, 8, 9, 10, 1000, 21, 'java'}\n",
      "\n",
      "\n",
      "1\n",
      "2\n",
      "6\n",
      "8\n",
      "9\n",
      "10\n",
      "1000\n",
      "ruby\n",
      "21\n",
      "python\n",
      "java\n",
      "\n",
      "\n",
      "['__and__', '__class__', '__contains__', '__delattr__', '__dir__', '__doc__', '__eq__', '__format__', '__ge__', '__getattribute__', '__gt__', '__hash__', '__iand__', '__init__', '__init_subclass__', '__ior__', '__isub__', '__iter__', '__ixor__', '__le__', '__len__', '__lt__', '__ne__', '__new__', '__or__', '__rand__', '__reduce__', '__reduce_ex__', '__repr__', '__ror__', '__rsub__', '__rxor__', '__setattr__', '__sizeof__', '__str__', '__sub__', '__subclasshook__', '__xor__', 'add', 'clear', 'copy', 'difference', 'difference_update', 'discard', 'intersection', 'intersection_update', 'isdisjoint', 'issubset', 'issuperset', 'pop', 'remove', 'symmetric_difference', 'symmetric_difference_update', 'union', 'update']\n"
     ]
    }
   ],
   "source": [
    "#sets are unordered collections of elements\n",
    "\n",
    "my_set = {1,6,2,'java','ruby',8,9,10,21,1000,'python',6}\n",
    "my_second_set = {6,2,'javascript','rails',8,9,10,21,1000,'c'}\n",
    "\n",
    "my_set.update(my_second_set)\n",
    "print(my_set)\n",
    "print(\"\\n\")\n",
    "\n",
    "#there can be no duplicates and the order always changes\n",
    "#if there are duplicate elements, they appear only once\n",
    "\n",
    "#remove duplicate values in a list\n",
    "\n",
    "my_list = [1,6,2,'java','ruby',8,9,10,21,1000,'python',6, 'python', 'ruby']\n",
    "my_set = set(my_list) #converts it into a set\n",
    "print(my_set)\n",
    "print(\"\\n\")\n",
    "\n",
    "#find information\n",
    "\n",
    "print('python' in my_set)\n",
    "print(\"\\n\")\n",
    "\n",
    "#intersection, union, difference\n",
    "coding_set = {'python', 'javascript', 'php', 'c', 'ruby'}\n",
    "print(my_set.intersection(coding_set))\n",
    "print(\"\\n\")\n",
    "print(my_set.union(coding_set))\n",
    "print(\"\\n\")\n",
    "print(my_set.difference(coding_set))\n",
    "print(\"\\n\")\n",
    "\n",
    "for item in my_set:\n",
    "    print(item)\n",
    "\n",
    "print(\"\\n\")\n",
    "    \n",
    "print(dir(my_set))"
   ]
  }
 ],
 "metadata": {
  "kernelspec": {
   "display_name": "Python 3",
   "language": "python",
   "name": "python3"
  },
  "language_info": {
   "codemirror_mode": {
    "name": "ipython",
    "version": 3
   },
   "file_extension": ".py",
   "mimetype": "text/x-python",
   "name": "python",
   "nbconvert_exporter": "python",
   "pygments_lexer": "ipython3",
   "version": "3.7.4"
  }
 },
 "nbformat": 4,
 "nbformat_minor": 2
}
